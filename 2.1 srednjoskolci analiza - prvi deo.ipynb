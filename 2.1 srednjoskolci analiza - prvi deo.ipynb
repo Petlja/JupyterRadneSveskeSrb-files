{
 "cells": [
  {
   "cell_type": "markdown",
   "metadata": {},
   "source": [
    "# Средњошколци у Републици Србији"
   ]
  },
  {
   "cell_type": "markdown",
   "metadata": {},
   "source": [
    "У овом темату позабавићемо се подацима о средњошколском образовању у Републици Србији који су нам доступни кроз отворене податке Министарства за просвету, науку и технолошки развој: http://opendata.mpn.gov.rs/index.php?ucenici_studenti=srednje. Прерађени фајлови у .csv формату налази се у фолдеру *data* (као и радна свеска коришћена за његову припрему), а у редовима који следе, бавићемо се експлоративном обрадом ових података са следећим циљевима: \n",
    "- да истражимо врсте средњошколских образовних профила и њихову географску заступљеност\n",
    "- који образовни профили су попупларни међу средњошколцима у Србији и да ли постоји разлика међу половима\n",
    "- да визуелизујемо податаке различитим типовима стубичастих дијаграма"
   ]
  },
  {
   "cell_type": "markdown",
   "metadata": {},
   "source": [
    "Кренућемо са учитавањем неопходних библиотека за обраду ових података - иако се потребна библиотека може учитати наредним командама у било ком делу радне свеске, зарад прегледности се то обично ради на самом почетку, а у наставку ће бити наглашено када је која од библиотека први пут искоришћена."
   ]
  },
  {
   "cell_type": "code",
   "execution_count": 1,
   "metadata": {},
   "outputs": [],
   "source": [
    "import pandas as pd # библиотека функција за обраду табеларних података\n",
    "import numpy as np # библиотека функција за баратање низовима и матрицама\n",
    "import matplotlib.pyplot as plt # библиотека функција за визуелизацију податка"
   ]
  },
  {
   "cell_type": "markdown",
   "metadata": {},
   "source": [
    "За учитавање и обраду података изузетно практична и најпопуларнија библиотека функција је [*pandas*](https://pandas.pydata.org/), њу ћемо одмах искористити због изузетне практичности учитавања табеларних података. Постоји пар верзија функција за учитавање фајлова, али у анализи табеларних података начешће користимо [**read_csv**](https://pandas.pydata.org/pandas-docs/stable/reference/api/pandas.read_csv.html) за читање .csv фајлова (односно фајлова у којима су зарезом раздвојене вредности)."
   ]
  },
  {
   "cell_type": "code",
   "execution_count": 2,
   "metadata": {},
   "outputs": [],
   "source": [
    "srednjeskole = pd.read_csv('data/srednjoskolci data/MPNTRopendata_sskole_pripremljeni.csv') # подаци о средњим школама на територији Србије\n",
    "srednjoskolci = pd.read_csv('data/srednjoskolci data/MPNTRopendata_ss_pripremljeni.csv') # подаци о образовним профилима и њиховој популарности за сваку средњу школу"
   ]
  },
  {
   "cell_type": "markdown",
   "metadata": {},
   "source": [
    "Да бисмо осмотрили шта се налази у променљивој *srednjeskole* искористићемо опцију [**head(n)**](https://pandas.pydata.org/pandas-docs/stable/reference/api/pandas.DataFrame.head.html) којом излиставамо првих n редова учитаних података:"
   ]
  },
  {
   "cell_type": "code",
   "execution_count": 3,
   "metadata": {
    "scrolled": true
   },
   "outputs": [
    {
     "data": {
      "text/html": [
       "<div>\n",
       "<style scoped>\n",
       "    .dataframe tbody tr th:only-of-type {\n",
       "        vertical-align: middle;\n",
       "    }\n",
       "\n",
       "    .dataframe tbody tr th {\n",
       "        vertical-align: top;\n",
       "    }\n",
       "\n",
       "    .dataframe thead th {\n",
       "        text-align: right;\n",
       "    }\n",
       "</style>\n",
       "<table border=\"1\" class=\"dataframe\">\n",
       "  <thead>\n",
       "    <tr style=\"text-align: right;\">\n",
       "      <th></th>\n",
       "      <th>ID ustanove</th>\n",
       "      <th>Okrug</th>\n",
       "      <th>Opština</th>\n",
       "      <th>Naziv ustanove</th>\n",
       "      <th>Broj odeljenja</th>\n",
       "      <th>Broj kombinovanih odeljenja</th>\n",
       "      <th>Broj specijalnih odeljenja</th>\n",
       "      <th>Broj učenika</th>\n",
       "      <th>Broj devojčica</th>\n",
       "      <th>Broj nastavnika - bez zamena</th>\n",
       "      <th>Ukupna norma nastavnikaa - bez zamena</th>\n",
       "      <th>Broj zaposlenih - bez zamena</th>\n",
       "      <th>Ukupna norma zaposlenih- bez zamena</th>\n",
       "    </tr>\n",
       "  </thead>\n",
       "  <tbody>\n",
       "    <tr>\n",
       "      <th>0</th>\n",
       "      <td>1322</td>\n",
       "      <td>Severnobački upravni okrug</td>\n",
       "      <td>Bačka Topola</td>\n",
       "      <td>Poljoprivredna škola</td>\n",
       "      <td>26</td>\n",
       "      <td>5</td>\n",
       "      <td>0</td>\n",
       "      <td>524</td>\n",
       "      <td>222</td>\n",
       "      <td>74</td>\n",
       "      <td>65.9749</td>\n",
       "      <td>109</td>\n",
       "      <td>103.4649</td>\n",
       "    </tr>\n",
       "    <tr>\n",
       "      <th>1</th>\n",
       "      <td>1323</td>\n",
       "      <td>Severnobački upravni okrug</td>\n",
       "      <td>Bačka Topola</td>\n",
       "      <td>Srednja tehnička škola Šinković Jožef</td>\n",
       "      <td>15</td>\n",
       "      <td>3</td>\n",
       "      <td>0</td>\n",
       "      <td>318</td>\n",
       "      <td>61</td>\n",
       "      <td>46</td>\n",
       "      <td>32.8130</td>\n",
       "      <td>60</td>\n",
       "      <td>46.0330</td>\n",
       "    </tr>\n",
       "  </tbody>\n",
       "</table>\n",
       "</div>"
      ],
      "text/plain": [
       "   ID ustanove                       Okrug       Opština  \\\n",
       "0         1322  Severnobački upravni okrug  Bačka Topola   \n",
       "1         1323  Severnobački upravni okrug  Bačka Topola   \n",
       "\n",
       "                          Naziv ustanove  Broj odeljenja  \\\n",
       "0                   Poljoprivredna škola              26   \n",
       "1  Srednja tehnička škola Šinković Jožef              15   \n",
       "\n",
       "   Broj kombinovanih odeljenja  Broj specijalnih odeljenja  Broj učenika  \\\n",
       "0                            5                           0           524   \n",
       "1                            3                           0           318   \n",
       "\n",
       "   Broj devojčica  Broj nastavnika - bez zamena  \\\n",
       "0             222                            74   \n",
       "1              61                            46   \n",
       "\n",
       "   Ukupna norma nastavnikaa - bez zamena  Broj zaposlenih - bez zamena  \\\n",
       "0                                65.9749                           109   \n",
       "1                                32.8130                            60   \n",
       "\n",
       "   Ukupna norma zaposlenih- bez zamena  \n",
       "0                             103.4649  \n",
       "1                              46.0330  "
      ]
     },
     "execution_count": 3,
     "metadata": {},
     "output_type": "execute_result"
    }
   ],
   "source": [
    "srednjeskole.head(2)"
   ]
  },
  {
   "cell_type": "markdown",
   "metadata": {},
   "source": [
    "Слично ћемо погледати прва 2 реда у табели *srednjoskolci*:"
   ]
  },
  {
   "cell_type": "code",
   "execution_count": 4,
   "metadata": {},
   "outputs": [
    {
     "data": {
      "text/html": [
       "<div>\n",
       "<style scoped>\n",
       "    .dataframe tbody tr th:only-of-type {\n",
       "        vertical-align: middle;\n",
       "    }\n",
       "\n",
       "    .dataframe tbody tr th {\n",
       "        vertical-align: top;\n",
       "    }\n",
       "\n",
       "    .dataframe thead th {\n",
       "        text-align: right;\n",
       "    }\n",
       "</style>\n",
       "<table border=\"1\" class=\"dataframe\">\n",
       "  <thead>\n",
       "    <tr style=\"text-align: right;\">\n",
       "      <th></th>\n",
       "      <th>ID ustanove</th>\n",
       "      <th>Okrug</th>\n",
       "      <th>Opština</th>\n",
       "      <th>Naziv ustanove</th>\n",
       "      <th>Područje rada</th>\n",
       "      <th>Obrazovni profil</th>\n",
       "      <th>Trajanje obrazovanja</th>\n",
       "      <th>Jezik nastave</th>\n",
       "      <th>Ukupno odeljenja</th>\n",
       "      <th>Ukupno učenika</th>\n",
       "      <th>Prosečan broj učenika u odeljenju</th>\n",
       "      <th>Ukupno devojcica</th>\n",
       "      <th>Ukupno decaka</th>\n",
       "      <th>Procenat devojcica</th>\n",
       "      <th>Procenat decaka</th>\n",
       "    </tr>\n",
       "  </thead>\n",
       "  <tbody>\n",
       "    <tr>\n",
       "      <th>0</th>\n",
       "      <td>1322</td>\n",
       "      <td>Severnobački upravni okrug</td>\n",
       "      <td>Bačka Topola</td>\n",
       "      <td>Poljoprivredna škola</td>\n",
       "      <td>Poljoprivreda, proizvodnja i prerada hrane</td>\n",
       "      <td>Poljoprivredni tehničar</td>\n",
       "      <td>4</td>\n",
       "      <td>Mađarski jezik</td>\n",
       "      <td>4</td>\n",
       "      <td>74</td>\n",
       "      <td>18.50</td>\n",
       "      <td>25</td>\n",
       "      <td>49</td>\n",
       "      <td>33.78</td>\n",
       "      <td>66.22</td>\n",
       "    </tr>\n",
       "    <tr>\n",
       "      <th>1</th>\n",
       "      <td>1322</td>\n",
       "      <td>Severnobački upravni okrug</td>\n",
       "      <td>Bačka Topola</td>\n",
       "      <td>Poljoprivredna škola</td>\n",
       "      <td>Poljoprivreda, proizvodnja i prerada hrane</td>\n",
       "      <td>Veterinarski tehničar</td>\n",
       "      <td>4</td>\n",
       "      <td>Mađarski jezik</td>\n",
       "      <td>4</td>\n",
       "      <td>83</td>\n",
       "      <td>20.75</td>\n",
       "      <td>43</td>\n",
       "      <td>40</td>\n",
       "      <td>51.81</td>\n",
       "      <td>48.19</td>\n",
       "    </tr>\n",
       "  </tbody>\n",
       "</table>\n",
       "</div>"
      ],
      "text/plain": [
       "   ID ustanove                       Okrug       Opština  \\\n",
       "0         1322  Severnobački upravni okrug  Bačka Topola   \n",
       "1         1322  Severnobački upravni okrug  Bačka Topola   \n",
       "\n",
       "         Naziv ustanove                               Područje rada  \\\n",
       "0  Poljoprivredna škola  Poljoprivreda, proizvodnja i prerada hrane   \n",
       "1  Poljoprivredna škola  Poljoprivreda, proizvodnja i prerada hrane   \n",
       "\n",
       "          Obrazovni profil  Trajanje obrazovanja   Jezik nastave  \\\n",
       "0  Poljoprivredni tehničar                     4  Mađarski jezik   \n",
       "1    Veterinarski tehničar                     4  Mađarski jezik   \n",
       "\n",
       "   Ukupno odeljenja  Ukupno učenika  Prosečan broj učenika u odeljenju  \\\n",
       "0                 4              74                              18.50   \n",
       "1                 4              83                              20.75   \n",
       "\n",
       "   Ukupno devojcica  Ukupno decaka  Procenat devojcica  Procenat decaka  \n",
       "0                25             49               33.78            66.22  \n",
       "1                43             40               51.81            48.19  "
      ]
     },
     "execution_count": 4,
     "metadata": {},
     "output_type": "execute_result"
    }
   ],
   "source": [
    "srednjoskolci.head(2)"
   ]
  },
  {
   "cell_type": "markdown",
   "metadata": {},
   "source": [
    "Видимо да оба сета података имају колоне \"ID ustanove\", \"Okrug\", \"Opština\", \"Naziv ustanove\" који ће нам бити на располагању за укрштање информација (довољана нам је и једна колона, нпр. јединствена бројчана колона \"ID ustanove\" али за читљивост и означавање визуализација у наставку сачуваћемо и имена школа и њихове локације по окрузима и општинама). Подаци о средњошколцима су детаљнији зато што за сваку школу имамо одвојене информације о свим образовним профилима у оквиру школе, за које имамо податке о броју ученика по разредима. Како у том сету имамо више од 30 колона, опцијом head их нисмо све осмотрили. Други начин да видимо шта све имамо на располагању је [**info**](https://pandas.pydata.org/pandas-docs/stable/reference/api/pandas.DataFrame.info.html) којим излиставамо све колоне и сазнајемо који тип података је пајтон препознао при учитавању."
   ]
  },
  {
   "cell_type": "code",
   "execution_count": 5,
   "metadata": {
    "scrolled": true
   },
   "outputs": [
    {
     "name": "stdout",
     "output_type": "stream",
     "text": [
      "<class 'pandas.core.frame.DataFrame'>\n",
      "RangeIndex: 3177 entries, 0 to 3176\n",
      "Data columns (total 15 columns):\n",
      " #   Column                             Non-Null Count  Dtype  \n",
      "---  ------                             --------------  -----  \n",
      " 0   ID ustanove                        3177 non-null   int64  \n",
      " 1   Okrug                              3177 non-null   object \n",
      " 2   Opština                            3177 non-null   object \n",
      " 3   Naziv ustanove                     3177 non-null   object \n",
      " 4   Područje rada                      3177 non-null   object \n",
      " 5   Obrazovni profil                   3177 non-null   object \n",
      " 6   Trajanje obrazovanja               3177 non-null   int64  \n",
      " 7   Jezik nastave                      3177 non-null   object \n",
      " 8   Ukupno odeljenja                   3177 non-null   int64  \n",
      " 9   Ukupno učenika                     3177 non-null   int64  \n",
      " 10  Prosečan broj učenika u odeljenju  3177 non-null   float64\n",
      " 11  Ukupno devojcica                   3177 non-null   int64  \n",
      " 12  Ukupno decaka                      3177 non-null   int64  \n",
      " 13  Procenat devojcica                 3177 non-null   float64\n",
      " 14  Procenat decaka                    3177 non-null   float64\n",
      "dtypes: float64(3), int64(6), object(6)\n",
      "memory usage: 372.4+ KB\n"
     ]
    }
   ],
   "source": [
    "srednjoskolci.info()"
   ]
  },
  {
   "cell_type": "code",
   "execution_count": 6,
   "metadata": {},
   "outputs": [
    {
     "name": "stdout",
     "output_type": "stream",
     "text": [
      "<class 'pandas.core.frame.DataFrame'>\n",
      "RangeIndex: 446 entries, 0 to 445\n",
      "Data columns (total 13 columns):\n",
      " #   Column                                 Non-Null Count  Dtype  \n",
      "---  ------                                 --------------  -----  \n",
      " 0   ID ustanove                            446 non-null    int64  \n",
      " 1   Okrug                                  446 non-null    object \n",
      " 2   Opština                                446 non-null    object \n",
      " 3   Naziv ustanove                         446 non-null    object \n",
      " 4   Broj odeljenja                         446 non-null    int64  \n",
      " 5   Broj kombinovanih odeljenja            446 non-null    int64  \n",
      " 6   Broj specijalnih odeljenja             446 non-null    int64  \n",
      " 7   Broj učenika                           446 non-null    int64  \n",
      " 8   Broj devojčica                         446 non-null    int64  \n",
      " 9   Broj nastavnika - bez zamena           446 non-null    int64  \n",
      " 10  Ukupna norma nastavnikaa - bez zamena  446 non-null    float64\n",
      " 11  Broj zaposlenih - bez zamena           446 non-null    int64  \n",
      " 12  Ukupna norma zaposlenih- bez zamena    446 non-null    float64\n",
      "dtypes: float64(2), int64(8), object(3)\n",
      "memory usage: 45.4+ KB\n"
     ]
    }
   ],
   "source": [
    "srednjeskole.info()"
   ]
  },
  {
   "cell_type": "markdown",
   "metadata": {},
   "source": [
    "## Број ученика у средњим школама"
   ]
  },
  {
   "cell_type": "markdown",
   "metadata": {},
   "source": [
    "На располагању имамо доста података, тачније 3177 различитих образовних смерова У 446 средњих школа (што читамо из броја уноса у свакој од табела) и да бисмо сазнали више о овим подацима кренућемо са пар једноставних визуализација, нпр. анализирајући број ученика у школама. Један начин је да представимо сваку школу стубићем висине која одговара броју ученика у школи на стубичастом дијаграму (уз помоћ библиотеке [*matplotlib*](https://matplotlib.org/) коју скраћено позивамо са *plt*, функцијом [**bar**](https://matplotlib.org/3.3.0/api/_as_gen/matplotlib.pyplot.bar.html)): "
   ]
  },
  {
   "cell_type": "markdown",
   "metadata": {},
   "source": [
    "Пре цртања дијаграма, сортираћемо табелу по колони Број ученика користећи фунцију [**sort_values**](https://pandas.pydata.org/pandas-docs/stable/reference/api/pandas.DataFrame.sort_values.html) са аргументом *by* коме прослеђујемо име колоне по којој сортирамо. \n",
    "\n",
    "*Испитајте како исти дијаграм у наставку изгледа када је табела сортирана по некој другој колони.*"
   ]
  },
  {
   "cell_type": "code",
   "execution_count": 7,
   "metadata": {},
   "outputs": [],
   "source": [
    "srednjeskole = srednjeskole.sort_values(by='Broj učenika')"
   ]
  },
  {
   "cell_type": "markdown",
   "metadata": {},
   "source": [
    "Обратите пажњу да **sort_values** креира нову табелу (енг. dataframe), тј. ако не доделите исход сортирања поново табели srednjeskole као што је урађено претходно, оригинална табела се неће променити. (Обратите пажњу да је ово је другачије од **list.sort** у пајтону.)"
   ]
  },
  {
   "cell_type": "code",
   "execution_count": 8,
   "metadata": {},
   "outputs": [
    {
     "data": {
      "image/png": "[encoded data removed]",
      "text/plain": [
       "<Figure size 432x288 with 1 Axes>"
      ]
     },
     "metadata": {
      "needs_background": "light"
     },
     "output_type": "display_data"
    }
   ],
   "source": [
    "plt.bar(range(len(srednjeskole)),srednjeskole['Broj učenika'],color='darkgrey')\n",
    "plt.xlabel('Škole poređane od najmanje do najveće po broju učenika')\n",
    "plt.ylabel('Broj učenika u srednjoj školi')\n",
    "plt.grid()\n",
    "plt.show()"
   ]
  },
  {
   "cell_type": "markdown",
   "metadata": {},
   "source": [
    "Функцији *bar* је поред висина стубића (које смо проследили кроз колону Број ученика као други аргумент), потребно је проследити и позиције на х оси. У овом случају, проследили смо редне бројеве у дужини колоне уз помоћ функције **range** и тиме на х оси добили бројеве од 0 до дужине колоне умањене за 1 (што смо добили уз помоћ *len(srednjeskole)*). Поред имена х и у осе ([**xlabel**](https://matplotlib.org/3.1.1/api/_as_gen/matplotlib.pyplot.xlabel.html) и [**ylabel**](https://matplotlib.org/3.1.1/api/_as_gen/matplotlib.pyplot.ylabel.html)), дијаграму смо додали и хоризонталне и вертикалне линије зарад боље читљивости (функцијом [**grid**](https://matplotlib.org/3.1.1/api/_as_gen/matplotlib.pyplot.grid.html)). \n",
    "\n",
    "На дијаграму можемо видети да око 50 школа има преко 1000 ученика, као и да средња по величини средња школа има око 500 ученика, али да то не бисмо оцењивали визуелно могу нам помоћи функције у оквиру [*numpy*](https://numpy.org/) библиотеке. Медијална вредност је вредност у низу за коју важи да има једнак број вредности које су од ње мање и веће, и осим што је визуелно можемо потражити на претходном графику, очитавањем средишњег елемента низа који је сортиран или користећи функцију [**np.median**](https://numpy.org/doc/stable/reference/generated/numpy.median.html):"
   ]
  },
  {
   "cell_type": "code",
   "execution_count": 9,
   "metadata": {},
   "outputs": [
    {
     "data": {
      "text/plain": [
       "497.0"
      ]
     },
     "execution_count": 9,
     "metadata": {},
     "output_type": "execute_result"
    }
   ],
   "source": [
    "medijalnavrednost = np.median(srednjeskole['Broj učenika'])\n",
    "medijalnavrednost"
   ]
  },
  {
   "cell_type": "markdown",
   "metadata": {},
   "source": [
    "Наша визуелна процена је била доста добра зато што је стубичасти дијаграм сортираних вредности изузетно погодан за процену ове вредности. Битно је не мешати управо израчунату медијалну вредност са просечном вредношћу или типичном/најчешћом вредношћу, да се све ове три вредности разликују видећемо у наставку. Просечну вредност рачунамо користећи аритметичку средину - можемо сабрати све вредности низа и поделити дужином низа или користити функцију [**np.mean**](https://numpy.org/doc/stable/reference/generated/numpy.mean.html#:~:text=mean-,numpy.,otherwise%20over%20the%20specified%20axis.):"
   ]
  },
  {
   "cell_type": "code",
   "execution_count": 10,
   "metadata": {},
   "outputs": [
    {
     "data": {
      "text/plain": [
       "559.7668161434977"
      ]
     },
     "execution_count": 10,
     "metadata": {},
     "output_type": "execute_result"
    }
   ],
   "source": [
    "sum(srednjeskole['Broj učenika'])/len(srednjeskole['Broj učenika'])"
   ]
  },
  {
   "cell_type": "code",
   "execution_count": 11,
   "metadata": {},
   "outputs": [
    {
     "data": {
      "text/plain": [
       "559.7668161434977"
      ]
     },
     "execution_count": 11,
     "metadata": {},
     "output_type": "execute_result"
    }
   ],
   "source": [
    "prosecnavrednost = np.mean(srednjeskole['Broj učenika'])\n",
    "prosecnavrednost"
   ]
  },
  {
   "cell_type": "markdown",
   "metadata": {},
   "source": [
    "Дијаграм који нам може помоћи да видимо узроке ових разлика, као и која величина школе је најпопуларнија у подацима зове се хистограм такође се налази у оквиру *matplotlib* библиотеке. Позивање ове фукције обавља фреквенцијску анализу за нас, тј. уместо да ручно поделимо величине школа у групе по величинама (нпр. од 1 до 100 ученика, од 101 до 200 ученика,...) и пребројимо колико школа има у свакој групи, функција [**hist**](https://matplotlib.org/3.2.2/api/_as_gen/matplotlib.pyplot.hist.html) ради то за нас. Уколико осим података не унесемо више аргумената при позивању функције, подаци ће бити подељени у 10 једнаких група (нпр. ако најмања школа има 1 ученика а највећа 1000, групе ће бити школе са 1 до 100, 101 до 200 ученика итд.), а опцијом *bins* можемо директно дефинисати или тачан број група које хоћемо на дијаграму (нпр. bins=40) или тачне интервале величине група (нпр. bins=[0,100,200]). "
   ]
  },
  {
   "cell_type": "code",
   "execution_count": 12,
   "metadata": {
    "scrolled": true
   },
   "outputs": [
    {
     "data": {
      "image/png": "[encoded data removed]",
      "text/plain": [
       "<Figure size 432x288 with 1 Axes>"
      ]
     },
     "metadata": {
      "needs_background": "light"
     },
     "output_type": "display_data"
    }
   ],
   "source": [
    "plt.hist(srednjeskole['Broj učenika'],color='darkgrey')\n",
    "plt.xlabel('Broj učenika u srednjoj školi')\n",
    "plt.ylabel('Broj srednjih škola sa datim brojem učenika')\n",
    "plt.show()"
   ]
  },
  {
   "cell_type": "markdown",
   "metadata": {},
   "source": [
    "На овом дијаграму нацртали смо најосновнију верзију хистограма, са 10 стубића без контроле ширине или броја стубића. Свакако, ово нам даје информацију да највише школа има око 500 ђака, али да бисмо то испитали мало детаљније, у наставку ћемо контролисати ширину стубића (аргументом *bins*) и додати вертикалне линије (функцијом [**axvline**](https://matplotlib.org/api/_as_gen/matplotlib.pyplot.axvline.html)) да означимо просечну и медијалну вредност."
   ]
  },
  {
   "cell_type": "code",
   "execution_count": 13,
   "metadata": {},
   "outputs": [
    {
     "data": {
      "image/png": "[encoded data removed]",
      "text/plain": [
       "<Figure size 432x288 with 1 Axes>"
      ]
     },
     "metadata": {
      "needs_background": "light"
     },
     "output_type": "display_data"
    }
   ],
   "source": [
    "plt.hist(srednjeskole['Broj učenika'],bins=range(0,2000,50),color='darkgrey')\n",
    "plt.xlabel('Broj učenika u srednjoj školi')\n",
    "plt.ylabel('Broj srednjih škola sa datim brojem učenika')\n",
    "plt.axvline(x=medijalnavrednost, color='r',linestyle='dashed')\n",
    "plt.axvline(x=prosecnavrednost, color='k')\n",
    "plt.show()"
   ]
  },
  {
   "cell_type": "markdown",
   "metadata": {},
   "source": [
    "Са овог графика видимо да највише школа има између 400 и 450 ученика (и 200 до 250 одмах затим), док су и медијална и просечна вредност веће (обележене црвеном и црном бојом, редом), у овој и наредним радним свескама ћемо на више места видети да ове три вредности често нису исте и битно је раздвојити их. Интересантно је приметити и да постоје изузетно велике школе са скоро 2000 ученика, као и оне мале, са до 50 ученика, те податке можемо појединачно погледати селектовањем одређених делова табеле."
   ]
  },
  {
   "cell_type": "markdown",
   "metadata": {},
   "source": [
    "Команда попут ове srednjeskole['Broj učenika']<50 враћа нам низ вредности Тачно/Нетачно у зависности од тога да ли је дати елемент колоне мањи или не од броја 50:"
   ]
  },
  {
   "cell_type": "code",
   "execution_count": 14,
   "metadata": {
    "scrolled": true
   },
   "outputs": [
    {
     "data": {
      "text/plain": [
       "413     True\n",
       "429     True\n",
       "411     True\n",
       "412     True\n",
       "430     True\n",
       "       ...  \n",
       "442    False\n",
       "83     False\n",
       "81     False\n",
       "77     False\n",
       "133    False\n",
       "Name: Broj učenika, Length: 446, dtype: bool"
      ]
     },
     "execution_count": 14,
     "metadata": {},
     "output_type": "execute_result"
    }
   ],
   "source": [
    "srednjeskole['Broj učenika']<50"
   ]
  },
  {
   "cell_type": "markdown",
   "metadata": {},
   "source": [
    "Када овакав низ тачних и нетачних вредности проследимо као аргумент табели srednjeskole добићемо оне редове табеле за коју је тврдња у заградама тачна (у овом случају, оне редове табеле који одговарају школама са мање од 50 ученика):"
   ]
  },
  {
   "cell_type": "code",
   "execution_count": 15,
   "metadata": {
    "scrolled": false
   },
   "outputs": [
    {
     "data": {
      "text/html": [
       "<div>\n",
       "<style scoped>\n",
       "    .dataframe tbody tr th:only-of-type {\n",
       "        vertical-align: middle;\n",
       "    }\n",
       "\n",
       "    .dataframe tbody tr th {\n",
       "        vertical-align: top;\n",
       "    }\n",
       "\n",
       "    .dataframe thead th {\n",
       "        text-align: right;\n",
       "    }\n",
       "</style>\n",
       "<table border=\"1\" class=\"dataframe\">\n",
       "  <thead>\n",
       "    <tr style=\"text-align: right;\">\n",
       "      <th></th>\n",
       "      <th>ID ustanove</th>\n",
       "      <th>Okrug</th>\n",
       "      <th>Opština</th>\n",
       "      <th>Naziv ustanove</th>\n",
       "      <th>Broj odeljenja</th>\n",
       "      <th>Broj kombinovanih odeljenja</th>\n",
       "      <th>Broj specijalnih odeljenja</th>\n",
       "      <th>Broj učenika</th>\n",
       "      <th>Broj devojčica</th>\n",
       "      <th>Broj nastavnika - bez zamena</th>\n",
       "      <th>Ukupna norma nastavnikaa - bez zamena</th>\n",
       "      <th>Broj zaposlenih - bez zamena</th>\n",
       "      <th>Ukupna norma zaposlenih- bez zamena</th>\n",
       "    </tr>\n",
       "  </thead>\n",
       "  <tbody>\n",
       "    <tr>\n",
       "      <th>413</th>\n",
       "      <td>1778</td>\n",
       "      <td>Pećki upravni okrug</td>\n",
       "      <td>Peć</td>\n",
       "      <td>Ekonomska škola</td>\n",
       "      <td>3</td>\n",
       "      <td>0</td>\n",
       "      <td>0</td>\n",
       "      <td>5</td>\n",
       "      <td>1</td>\n",
       "      <td>12</td>\n",
       "      <td>4.2490</td>\n",
       "      <td>12</td>\n",
       "      <td>4.2490</td>\n",
       "    </tr>\n",
       "    <tr>\n",
       "      <th>429</th>\n",
       "      <td>1804</td>\n",
       "      <td>Kosovsko-mitrovački upravni okrug</td>\n",
       "      <td>Srbica</td>\n",
       "      <td>Tehnička škola</td>\n",
       "      <td>3</td>\n",
       "      <td>0</td>\n",
       "      <td>0</td>\n",
       "      <td>10</td>\n",
       "      <td>6</td>\n",
       "      <td>14</td>\n",
       "      <td>6.5181</td>\n",
       "      <td>25</td>\n",
       "      <td>16.6203</td>\n",
       "    </tr>\n",
       "    <tr>\n",
       "      <th>411</th>\n",
       "      <td>1776</td>\n",
       "      <td>Prizrenski upravni okrug</td>\n",
       "      <td>Orahovac</td>\n",
       "      <td>Gimnazija Orahovac</td>\n",
       "      <td>2</td>\n",
       "      <td>0</td>\n",
       "      <td>0</td>\n",
       "      <td>12</td>\n",
       "      <td>5</td>\n",
       "      <td>13</td>\n",
       "      <td>4.7944</td>\n",
       "      <td>20</td>\n",
       "      <td>10.7444</td>\n",
       "    </tr>\n",
       "    <tr>\n",
       "      <th>412</th>\n",
       "      <td>1777</td>\n",
       "      <td>Pećki upravni okrug</td>\n",
       "      <td>Peć</td>\n",
       "      <td>Gimnazija</td>\n",
       "      <td>7</td>\n",
       "      <td>0</td>\n",
       "      <td>0</td>\n",
       "      <td>17</td>\n",
       "      <td>9</td>\n",
       "      <td>31</td>\n",
       "      <td>14.7830</td>\n",
       "      <td>42</td>\n",
       "      <td>24.7830</td>\n",
       "    </tr>\n",
       "    <tr>\n",
       "      <th>430</th>\n",
       "      <td>1805</td>\n",
       "      <td>Kosovsko-mitrovački upravni okrug</td>\n",
       "      <td>Vučitrn</td>\n",
       "      <td>Gimnazija Vučitrn</td>\n",
       "      <td>4</td>\n",
       "      <td>0</td>\n",
       "      <td>0</td>\n",
       "      <td>29</td>\n",
       "      <td>21</td>\n",
       "      <td>25</td>\n",
       "      <td>8.2320</td>\n",
       "      <td>30</td>\n",
       "      <td>13.7320</td>\n",
       "    </tr>\n",
       "    <tr>\n",
       "      <th>394</th>\n",
       "      <td>1754</td>\n",
       "      <td>Kosovski upravni okrug</td>\n",
       "      <td>Priština - grad</td>\n",
       "      <td>Mašinska škola - Priština</td>\n",
       "      <td>5</td>\n",
       "      <td>0</td>\n",
       "      <td>0</td>\n",
       "      <td>31</td>\n",
       "      <td>3</td>\n",
       "      <td>26</td>\n",
       "      <td>10.8681</td>\n",
       "      <td>39</td>\n",
       "      <td>21.3681</td>\n",
       "    </tr>\n",
       "  </tbody>\n",
       "</table>\n",
       "</div>"
      ],
      "text/plain": [
       "     ID ustanove                              Okrug          Opština  \\\n",
       "413         1778                Pećki upravni okrug              Peć   \n",
       "429         1804  Kosovsko-mitrovački upravni okrug           Srbica   \n",
       "411         1776           Prizrenski upravni okrug         Orahovac   \n",
       "412         1777                Pećki upravni okrug              Peć   \n",
       "430         1805  Kosovsko-mitrovački upravni okrug          Vučitrn   \n",
       "394         1754             Kosovski upravni okrug  Priština - grad   \n",
       "\n",
       "                Naziv ustanove  Broj odeljenja  Broj kombinovanih odeljenja  \\\n",
       "413            Ekonomska škola               3                            0   \n",
       "429             Tehnička škola               3                            0   \n",
       "411         Gimnazija Orahovac               2                            0   \n",
       "412                  Gimnazija               7                            0   \n",
       "430          Gimnazija Vučitrn               4                            0   \n",
       "394  Mašinska škola - Priština               5                            0   \n",
       "\n",
       "     Broj specijalnih odeljenja  Broj učenika  Broj devojčica  \\\n",
       "413                           0             5               1   \n",
       "429                           0            10               6   \n",
       "411                           0            12               5   \n",
       "412                           0            17               9   \n",
       "430                           0            29              21   \n",
       "394                           0            31               3   \n",
       "\n",
       "     Broj nastavnika - bez zamena  Ukupna norma nastavnikaa - bez zamena  \\\n",
       "413                            12                                 4.2490   \n",
       "429                            14                                 6.5181   \n",
       "411                            13                                 4.7944   \n",
       "412                            31                                14.7830   \n",
       "430                            25                                 8.2320   \n",
       "394                            26                                10.8681   \n",
       "\n",
       "     Broj zaposlenih - bez zamena  Ukupna norma zaposlenih- bez zamena  \n",
       "413                            12                               4.2490  \n",
       "429                            25                              16.6203  \n",
       "411                            20                              10.7444  \n",
       "412                            42                              24.7830  \n",
       "430                            30                              13.7320  \n",
       "394                            39                              21.3681  "
      ]
     },
     "execution_count": 15,
     "metadata": {},
     "output_type": "execute_result"
    }
   ],
   "source": [
    "srednjeskole[srednjeskole['Broj učenika']<50]"
   ]
  },
  {
   "cell_type": "markdown",
   "metadata": {},
   "source": [
    "***Задатак:*** Издвојите на сличан начин школе са више од 1700 ученика:"
   ]
  },
  {
   "cell_type": "code",
   "execution_count": 16,
   "metadata": {},
   "outputs": [],
   "source": [
    "# место за ваш код"
   ]
  },
  {
   "cell_type": "markdown",
   "metadata": {},
   "source": [
    "Као што сте можда и претпоставили школе са великим бројем ученика налазе се у великим градовима и имају велики број одељења и на такве \"скривене\" узроке је битно обраћати пажњу при обради података. На пример, у потрази за потенцијалним зависностима које постоје међу подацима сачуваним у различитим колонама, често ћемо цртати и тачкасте дијаграме [**scatter**](https://matplotlib.org/api/_as_gen/matplotlib.pyplot.scatter.html), као што је и овај:"
   ]
  },
  {
   "cell_type": "code",
   "execution_count": 17,
   "metadata": {
    "scrolled": true
   },
   "outputs": [
    {
     "data": {
      "image/png": "[encoded data removed]",
      "text/plain": [
       "<Figure size 432x288 with 1 Axes>"
      ]
     },
     "metadata": {
      "needs_background": "light"
     },
     "output_type": "display_data"
    }
   ],
   "source": [
    "plt.scatter(srednjeskole['Broj odeljenja'],srednjeskole['Broj učenika'],color='darkred')\n",
    "plt.xlabel('Broj odeljenja u školi')\n",
    "plt.ylabel('Broj učenika u školi')\n",
    "plt.show()"
   ]
  },
  {
   "cell_type": "markdown",
   "metadata": {},
   "source": [
    "Функцијом **scatter** на дијаграму тачкицама представљамо средње школе из табеле srednjeskole. За сваку школу знамо укупан број одељења као и ученика и те информације користимо као х и у координате за представљање школа на овом дијаграму."
   ]
  },
  {
   "cell_type": "markdown",
   "metadata": {},
   "source": [
    "Међутим, ретко ће нам се дешавати да испитиване две величине овако изразито зависе једна од друге као што можемо видети на овом графику (где видимо да школе са великим бројем ученика имају и велики број одељења). Разлог у овоме је што ми заправо и не очекујемо да ове две величине представљене на x и y оси буду независне - тежећи да одрже број ученика у одељењима на разумном нивоу тако да настава може да се одржи, популарне и велике школе имају више одељења. Ако смо у потрази за неким мање очигледним зависностима, можемо проверити да ли постоји зависност између броја ученика по одељењу и броја одељења."
   ]
  },
  {
   "cell_type": "markdown",
   "metadata": {},
   "source": [
    "Прилично згодна карактеристика *pandas* библиотеке је што овакве операције, на пример рачунања просечног броја ученика у једном одељењу, можемо брзо и једноставно урадити за целу колону. Креираћемо нову колону 'Prosečan broj učenika u odeljenju' у коју ћемо сместити 0 за почетак:"
   ]
  },
  {
   "cell_type": "code",
   "execution_count": 18,
   "metadata": {},
   "outputs": [],
   "source": [
    "srednjeskole['Prosečan broj učenika u odeljenju'] = 0"
   ]
  },
  {
   "cell_type": "markdown",
   "metadata": {},
   "source": [
    "Колони можемо доделити и листу вредности, тако да на пример, можемо редом проћи кроз редове колона 'Broj učenika' и 'Broj odeljenja' и израчунати однос ова два броја, тј. просечан број ученика по одељењу:"
   ]
  },
  {
   "cell_type": "code",
   "execution_count": 19,
   "metadata": {},
   "outputs": [],
   "source": [
    "radna_lista = []\n",
    "for i in range(len(srednjeskole['Broj učenika'])):\n",
    "    radna_lista.append(srednjeskole['Broj učenika'].iloc[i]/srednjeskole['Broj odeljenja'].iloc[i])"
   ]
  },
  {
   "cell_type": "markdown",
   "metadata": {},
   "source": [
    "Вредности прикупљене у овој радној листи, сада просто можемо проследити колони у оквиру табеле и провером првих пар редова можемо проверити да ли се бројеви слажу:"
   ]
  },
  {
   "cell_type": "code",
   "execution_count": 20,
   "metadata": {},
   "outputs": [
    {
     "data": {
      "text/html": [
       "<div>\n",
       "<style scoped>\n",
       "    .dataframe tbody tr th:only-of-type {\n",
       "        vertical-align: middle;\n",
       "    }\n",
       "\n",
       "    .dataframe tbody tr th {\n",
       "        vertical-align: top;\n",
       "    }\n",
       "\n",
       "    .dataframe thead th {\n",
       "        text-align: right;\n",
       "    }\n",
       "</style>\n",
       "<table border=\"1\" class=\"dataframe\">\n",
       "  <thead>\n",
       "    <tr style=\"text-align: right;\">\n",
       "      <th></th>\n",
       "      <th>ID ustanove</th>\n",
       "      <th>Okrug</th>\n",
       "      <th>Opština</th>\n",
       "      <th>Naziv ustanove</th>\n",
       "      <th>Broj odeljenja</th>\n",
       "      <th>Broj kombinovanih odeljenja</th>\n",
       "      <th>Broj specijalnih odeljenja</th>\n",
       "      <th>Broj učenika</th>\n",
       "      <th>Broj devojčica</th>\n",
       "      <th>Broj nastavnika - bez zamena</th>\n",
       "      <th>Ukupna norma nastavnikaa - bez zamena</th>\n",
       "      <th>Broj zaposlenih - bez zamena</th>\n",
       "      <th>Ukupna norma zaposlenih- bez zamena</th>\n",
       "      <th>Prosečan broj učenika u odeljenju</th>\n",
       "    </tr>\n",
       "  </thead>\n",
       "  <tbody>\n",
       "    <tr>\n",
       "      <th>413</th>\n",
       "      <td>1778</td>\n",
       "      <td>Pećki upravni okrug</td>\n",
       "      <td>Peć</td>\n",
       "      <td>Ekonomska škola</td>\n",
       "      <td>3</td>\n",
       "      <td>0</td>\n",
       "      <td>0</td>\n",
       "      <td>5</td>\n",
       "      <td>1</td>\n",
       "      <td>12</td>\n",
       "      <td>4.2490</td>\n",
       "      <td>12</td>\n",
       "      <td>4.2490</td>\n",
       "      <td>1.666667</td>\n",
       "    </tr>\n",
       "    <tr>\n",
       "      <th>429</th>\n",
       "      <td>1804</td>\n",
       "      <td>Kosovsko-mitrovački upravni okrug</td>\n",
       "      <td>Srbica</td>\n",
       "      <td>Tehnička škola</td>\n",
       "      <td>3</td>\n",
       "      <td>0</td>\n",
       "      <td>0</td>\n",
       "      <td>10</td>\n",
       "      <td>6</td>\n",
       "      <td>14</td>\n",
       "      <td>6.5181</td>\n",
       "      <td>25</td>\n",
       "      <td>16.6203</td>\n",
       "      <td>3.333333</td>\n",
       "    </tr>\n",
       "  </tbody>\n",
       "</table>\n",
       "</div>"
      ],
      "text/plain": [
       "     ID ustanove                              Okrug Opština   Naziv ustanove  \\\n",
       "413         1778                Pećki upravni okrug     Peć  Ekonomska škola   \n",
       "429         1804  Kosovsko-mitrovački upravni okrug  Srbica   Tehnička škola   \n",
       "\n",
       "     Broj odeljenja  Broj kombinovanih odeljenja  Broj specijalnih odeljenja  \\\n",
       "413               3                            0                           0   \n",
       "429               3                            0                           0   \n",
       "\n",
       "     Broj učenika  Broj devojčica  Broj nastavnika - bez zamena  \\\n",
       "413             5               1                            12   \n",
       "429            10               6                            14   \n",
       "\n",
       "     Ukupna norma nastavnikaa - bez zamena  Broj zaposlenih - bez zamena  \\\n",
       "413                                 4.2490                            12   \n",
       "429                                 6.5181                            25   \n",
       "\n",
       "     Ukupna norma zaposlenih- bez zamena  Prosečan broj učenika u odeljenju  \n",
       "413                               4.2490                           1.666667  \n",
       "429                              16.6203                           3.333333  "
      ]
     },
     "execution_count": 20,
     "metadata": {},
     "output_type": "execute_result"
    }
   ],
   "source": [
    "srednjeskole['Prosečan broj učenika u odeljenju'] = radna_lista\n",
    "srednjeskole.head(2)"
   ]
  },
  {
   "cell_type": "markdown",
   "metadata": {},
   "source": [
    "Иако увек можемо да прођемо кроз колоне и извршимо израчунавања кроз петљу као што је приказано раније, доста бржи и једноставнији начин је да проследимо новој колони количник две колоне:"
   ]
  },
  {
   "cell_type": "code",
   "execution_count": 21,
   "metadata": {},
   "outputs": [],
   "source": [
    "srednjeskole['Prosečan broj učenika u odeljenju'] = srednjeskole['Broj učenika']/srednjeskole['Broj odeljenja']"
   ]
  },
  {
   "cell_type": "markdown",
   "metadata": {},
   "source": [
    "Када имате две пајтон листе, ово неће радити (пробајте!), док у оквиру пандас библиотеке, количник две колоне значи да се израчунава редом количник свака два елемента и то се извршава брже него претходно испробана петља. Ово баратање колонама није резервисано само за дељење, већ се све аритметичке и логичке операције могу користити на нивоу колона, што ћемо у наставку често користити."
   ]
  },
  {
   "cell_type": "markdown",
   "metadata": {},
   "source": [
    "У наставку је нова верзија тачкастог дијаграма, са просечним бројем ученика по одељењу за све анализиране школе:"
   ]
  },
  {
   "cell_type": "code",
   "execution_count": 22,
   "metadata": {
    "scrolled": true
   },
   "outputs": [
    {
     "data": {
      "image/png": "[encoded data removed]",
      "text/plain": [
       "<Figure size 432x288 with 1 Axes>"
      ]
     },
     "metadata": {
      "needs_background": "light"
     },
     "output_type": "display_data"
    }
   ],
   "source": [
    "plt.scatter(srednjeskole['Broj odeljenja'],srednjeskole['Prosečan broj učenika u odeljenju'],color='darkred')\n",
    "plt.xlabel('Broj odeljenja u školi')\n",
    "plt.ylabel('Prosečan broj učenika u odeljenju')\n",
    "plt.show()"
   ]
  },
  {
   "cell_type": "markdown",
   "metadata": {},
   "source": [
    "На овом графику, повезаност између просечног броја ученика у одељењу и броју одељења у школи није више тако јасна, но и овај дијаграм носи неке информације: \n",
    "- да постоје школе у којима има 5-6 одељења са по 5-6 ђака у одељењу (доњи леви део дијаграма)\n",
    "- да школе које имају између 10 и 30 одељења имају изузетно велики распон величина одељења, неке имају по десетак ђака у разреду, а неке и до тридесетак\n",
    "- да постоје изузетно велике школе које имају и јако пуно одељења и у њима просечно одељење има 25-30 ђака"
   ]
  },
  {
   "cell_type": "markdown",
   "metadata": {},
   "source": [
    "Како смо приметили да постоји варијабилитет у просечној величини одељења по школи, и тај податак можемо представити хистограмом као и раније."
   ]
  },
  {
   "cell_type": "code",
   "execution_count": 23,
   "metadata": {
    "scrolled": true
   },
   "outputs": [
    {
     "data": {
      "image/png": "[encoded data removed]",
      "text/plain": [
       "<Figure size 432x288 with 1 Axes>"
      ]
     },
     "metadata": {
      "needs_background": "light"
     },
     "output_type": "display_data"
    }
   ],
   "source": [
    "plt.hist(srednjeskole['Prosečan broj učenika u odeljenju'],bins=int(max(srednjeskole['Prosečan broj učenika u odeljenju'])),color='darkgrey')\n",
    "plt.xlabel('Prosečan broj učenika u odeljenju')\n",
    "plt.ylabel('Broj odeljenja sa odgovarajućim brojem učenika')\n",
    "plt.show()"
   ]
  },
  {
   "cell_type": "markdown",
   "metadata": {},
   "source": [
    "Можемо истражити и однос броја ученика и наставника и представити и то једним хистограмом:"
   ]
  },
  {
   "cell_type": "code",
   "execution_count": 24,
   "metadata": {
    "scrolled": true
   },
   "outputs": [
    {
     "data": {
      "image/png": "[encoded data removed]",
      "text/plain": [
       "<Figure size 432x288 with 1 Axes>"
      ]
     },
     "metadata": {
      "needs_background": "light"
     },
     "output_type": "display_data"
    }
   ],
   "source": [
    "plt.hist(srednjeskole['Broj učenika']/srednjeskole['Ukupna norma nastavnikaa - bez zamena'],20,color='darkgrey')\n",
    "plt.xlabel('Broj učenika po zaposlenom nastavniku u srednjoj školi')\n",
    "plt.ylabel('Broj škola sa datim odnosom brojeva učenika i nastavnika')\n",
    "plt.show()"
   ]
  },
  {
   "cell_type": "markdown",
   "metadata": {},
   "source": [
    "## Разноврсност средњошколског образовања"
   ]
  },
  {
   "cell_type": "markdown",
   "metadata": {},
   "source": [
    "У претходним редовима бавили смо се само бројем ученика у школама и одељењима, без залажења у детаље који образовни профили су у питању, то можемо истражити додатно у наставку користећи опцију груписања података по одређеним критеријума. За почетак истражићемо која су све подручја рада средњих школа. То можемо испитати функцијом **unique** која нам за дату колону издваја различите вредности у њој:"
   ]
  },
  {
   "cell_type": "code",
   "execution_count": 25,
   "metadata": {
    "scrolled": true
   },
   "outputs": [
    {
     "data": {
      "text/plain": [
       "array(['Poljoprivreda, proizvodnja i prerada hrane', 'Elektrotehnika',\n",
       "       'Geodezija i građevinarstvo', 'Ostala delatnost ličnih usluga',\n",
       "       'Mašinstvo i obrada metala', 'Gimnazija',\n",
       "       'Trgovina, ugostiteljstvo i turizam',\n",
       "       'Ekonomija, pravo i administracija',\n",
       "       'Zdravstvo i socijalna zaštita', 'Šumarstvo i obrada drveta',\n",
       "       'Hemija, nemetali i grafičarstvo', 'Tekstilstvo i kožarstvo',\n",
       "       'Saobraćaj', 'Geologija, rudarstvo i metalurgija',\n",
       "       'Kultura, umetnost i javno informisanje', 'Hidrometeorologija'],\n",
       "      dtype=object)"
      ]
     },
     "execution_count": 25,
     "metadata": {},
     "output_type": "execute_result"
    }
   ],
   "source": [
    "srednjoskolci['Područje rada'].unique()"
   ]
  },
  {
   "cell_type": "markdown",
   "metadata": {},
   "source": [
    "Видимо да су школе организоване у више различитих подручја рада, од гимназија, преко 'здравства и социјалне заштите' до 'геологије, рударства и металургије', а сада можемо проверити и колико има ученика који се школује у сваком од ових подручја. То радимо груписањем по подручју рада ([**groupby**](https://pandas.pydata.org/pandas-docs/stable/generated/pandas.DataFrame.groupby.html)) и сабрањем (**sum**) укупног броја ученика у оквиру сваке од група:"
   ]
  },
  {
   "cell_type": "code",
   "execution_count": 26,
   "metadata": {
    "scrolled": false
   },
   "outputs": [
    {
     "data": {
      "text/plain": [
       "Područje rada\n",
       "Hidrometeorologija                              210\n",
       "Geologija, rudarstvo i metalurgija             1081\n",
       "Kultura, umetnost i javno informisanje         1646\n",
       "Šumarstvo i obrada drveta                      2595\n",
       "Ostala delatnost ličnih usluga                 3240\n",
       "Tekstilstvo i kožarstvo                        3241\n",
       "Geodezija i građevinarstvo                     6365\n",
       "Hemija, nemetali i grafičarstvo                8977\n",
       "Saobraćaj                                     12939\n",
       "Poljoprivreda, proizvodnja i prerada hrane    14364\n",
       "Trgovina, ugostiteljstvo i turizam            19922\n",
       "Mašinstvo i obrada metala                     22965\n",
       "Zdravstvo i socijalna zaštita                 23666\n",
       "Elektrotehnika                                28269\n",
       "Ekonomija, pravo i administracija             32583\n",
       "Gimnazija                                     66250\n",
       "Name: Ukupno učenika, dtype: int64"
      ]
     },
     "execution_count": 26,
     "metadata": {},
     "output_type": "execute_result"
    }
   ],
   "source": [
    "ss_podrucja = srednjoskolci.groupby(srednjoskolci['Područje rada'])\n",
    "ss_podrucja['Ukupno učenika'].sum().sort_values()"
   ]
  },
  {
   "cell_type": "markdown",
   "metadata": {},
   "source": [
    "Да не бисмо ове податке само посматрали у оквиру табеле, можемо их представити и стубичастим дијаграмом, али, овај пут ћемо испробати хоризонталну верзију (**barh**) да бисмо лакше читали називе различитих подручја рада која ће бити исписана поред сваког стубића."
   ]
  },
  {
   "cell_type": "code",
   "execution_count": 27,
   "metadata": {},
   "outputs": [
    {
     "data": {
      "image/png": "[encoded data removed]",
      "text/plain": [
       "<Figure size 432x288 with 1 Axes>"
      ]
     },
     "metadata": {
      "needs_background": "light"
     },
     "output_type": "display_data"
    }
   ],
   "source": [
    "ss_podrucja['Ukupno učenika'].sum().sort_values().plot(kind='barh',color='darkred')\n",
    "plt.xlabel('Broj srednjoškolaca'); # ознака х осе"
   ]
  },
  {
   "cell_type": "markdown",
   "metadata": {},
   "source": [
    "Видимо да је највише средњошколаца у гимназијама, а прва област потом обједињује економију, право и администрацију.\n",
    "Иако смо и овај график могли нацртати уз помоћ **plt.barh()** функције, зарад разноврсности различитих доступних опција, нацртали смо га користећи функцију **plоt** у оквиру *pandas* библиотеке, којој је потребно проследити и аргумент *kind* којим дефинишемо врсту графикона који желимо (подразумевана вредност је линијски дијаграм - испробајте без *kind* аргумента - који није најбољи избор за податке на располагању). Предност цртања стубичастог дијаграма на овај начин је и аутоматско означавање у осе и различитих стубића."
   ]
  },
  {
   "cell_type": "markdown",
   "metadata": {},
   "source": [
    "Можемо истражити и популарност појединачних смерова у оквиру сваке од ових области. То радимо тако што прво одаберемо специфичну област, на пример најпопуларнију економију на следећи начин: \n",
    "\n",
    "```py\n",
    "srednjoskolci[srednjoskolci['Područje rada']=='Ekonomija, pravo i administracija']\n",
    "```\n",
    "\n",
    "што селектује само оне редове у нашој табели у којима је подручје рада баш ово изабрано. Након тога понављамо процедуру груписања, овај пут по образовним профилима и поново сумирамо све ученике на одговарајућем профилу:"
   ]
  },
  {
   "cell_type": "code",
   "execution_count": 28,
   "metadata": {
    "scrolled": false
   },
   "outputs": [
    {
     "data": {
      "image/png": "[encoded data removed]",
      "text/plain": [
       "<Figure size 432x288 with 1 Axes>"
      ]
     },
     "metadata": {
      "needs_background": "light"
     },
     "output_type": "display_data"
    }
   ],
   "source": [
    "ekonomisti = srednjoskolci[srednjoskolci['Područje rada']=='Ekonomija, pravo i administracija']\n",
    "ekonomisti_po_profilima = ekonomisti.groupby('Obrazovni profil')\n",
    "ekonomisti_po_profilima['Ukupno učenika'].sum().sort_values().plot(kind='barh',color='tomato')\n",
    "plt.xlabel('Broj srednjoškolaca'); # ознака х осе"
   ]
  },
  {
   "cell_type": "markdown",
   "metadata": {},
   "source": [
    "Видимо да се у оквиру овог подручја рада највише ученика школује да постане Економски техничар, као и да постоје четири огледна профила чија је популарност далеко мања."
   ]
  },
  {
   "cell_type": "markdown",
   "metadata": {},
   "source": [
    "Слично, можемо истражити и трајање образовања:"
   ]
  },
  {
   "cell_type": "code",
   "execution_count": 29,
   "metadata": {},
   "outputs": [
    {
     "data": {
      "text/plain": [
       "Trajanje obrazovanja\n",
       "1       131\n",
       "2        45\n",
       "3     32860\n",
       "4    215277\n",
       "Name: Ukupno učenika, dtype: int64"
      ]
     },
     "execution_count": 29,
     "metadata": {},
     "output_type": "execute_result"
    }
   ],
   "source": [
    "srednjoskolci.groupby(srednjoskolci['Trajanje obrazovanja'])['Ukupno učenika'].sum()"
   ]
  },
  {
   "cell_type": "markdown",
   "metadata": {},
   "source": [
    "# Пол"
   ]
  },
  {
   "cell_type": "markdown",
   "metadata": {},
   "source": [
    "Како су нам на располагању и подаци о броју ученика на различитим смеровима раздвојени и по полу, можемо видети да ли постоји разлика у популарности средњих школа међу дечацима и девојчицама. \n",
    "Поновићемо груписање по подручјима рада, само што ћемо сада сумирати поред укупног броја ученика и укупне бројеве дечака и девојчица. Резулате груписања ћемо сачувати као додатну табелу *podrucjapopolu*."
   ]
  },
  {
   "cell_type": "code",
   "execution_count": 30,
   "metadata": {},
   "outputs": [
    {
     "data": {
      "text/html": [
       "<div>\n",
       "<style scoped>\n",
       "    .dataframe tbody tr th:only-of-type {\n",
       "        vertical-align: middle;\n",
       "    }\n",
       "\n",
       "    .dataframe tbody tr th {\n",
       "        vertical-align: top;\n",
       "    }\n",
       "\n",
       "    .dataframe thead th {\n",
       "        text-align: right;\n",
       "    }\n",
       "</style>\n",
       "<table border=\"1\" class=\"dataframe\">\n",
       "  <thead>\n",
       "    <tr style=\"text-align: right;\">\n",
       "      <th></th>\n",
       "      <th>Ukupno učenika</th>\n",
       "      <th>Ukupno decaka</th>\n",
       "      <th>Ukupno devojcica</th>\n",
       "    </tr>\n",
       "    <tr>\n",
       "      <th>Područje rada</th>\n",
       "      <th></th>\n",
       "      <th></th>\n",
       "      <th></th>\n",
       "    </tr>\n",
       "  </thead>\n",
       "  <tbody>\n",
       "    <tr>\n",
       "      <th>Ekonomija, pravo i administracija</th>\n",
       "      <td>32583</td>\n",
       "      <td>11106</td>\n",
       "      <td>21477</td>\n",
       "    </tr>\n",
       "    <tr>\n",
       "      <th>Elektrotehnika</th>\n",
       "      <td>28269</td>\n",
       "      <td>25776</td>\n",
       "      <td>2493</td>\n",
       "    </tr>\n",
       "  </tbody>\n",
       "</table>\n",
       "</div>"
      ],
      "text/plain": [
       "                                   Ukupno učenika  Ukupno decaka  \\\n",
       "Područje rada                                                      \n",
       "Ekonomija, pravo i administracija           32583          11106   \n",
       "Elektrotehnika                              28269          25776   \n",
       "\n",
       "                                   Ukupno devojcica  \n",
       "Područje rada                                        \n",
       "Ekonomija, pravo i administracija             21477  \n",
       "Elektrotehnika                                 2493  "
      ]
     },
     "execution_count": 30,
     "metadata": {},
     "output_type": "execute_result"
    }
   ],
   "source": [
    "podrucjapopolu = pd.DataFrame(srednjoskolci.groupby(srednjoskolci['Područje rada'])[['Ukupno učenika','Ukupno decaka','Ukupno devojcica']].sum())\n",
    "podrucjapopolu.head(2)"
   ]
  },
  {
   "cell_type": "markdown",
   "metadata": {},
   "source": [
    "Можемо срачунати проценат дечака и девојчица (како не бисмо чували бројеве на превеликом броју децимала, користићемо функцију **round** да заокружимо процентуалну вредност на само 2 цифре иза зареза: "
   ]
  },
  {
   "cell_type": "code",
   "execution_count": 31,
   "metadata": {},
   "outputs": [],
   "source": [
    "podrucjapopolu['Procenat decaka'] = round(100*podrucjapopolu['Ukupno decaka']/podrucjapopolu['Ukupno učenika'],2)\n",
    "podrucjapopolu['Procenat devojcica'] = round(100*podrucjapopolu['Ukupno devojcica']/podrucjapopolu['Ukupno učenika'],2)"
   ]
  },
  {
   "cell_type": "code",
   "execution_count": 32,
   "metadata": {
    "scrolled": true
   },
   "outputs": [
    {
     "data": {
      "text/html": [
       "<div>\n",
       "<style scoped>\n",
       "    .dataframe tbody tr th:only-of-type {\n",
       "        vertical-align: middle;\n",
       "    }\n",
       "\n",
       "    .dataframe tbody tr th {\n",
       "        vertical-align: top;\n",
       "    }\n",
       "\n",
       "    .dataframe thead th {\n",
       "        text-align: right;\n",
       "    }\n",
       "</style>\n",
       "<table border=\"1\" class=\"dataframe\">\n",
       "  <thead>\n",
       "    <tr style=\"text-align: right;\">\n",
       "      <th></th>\n",
       "      <th>Ukupno učenika</th>\n",
       "      <th>Ukupno decaka</th>\n",
       "      <th>Ukupno devojcica</th>\n",
       "      <th>Procenat decaka</th>\n",
       "      <th>Procenat devojcica</th>\n",
       "    </tr>\n",
       "    <tr>\n",
       "      <th>Područje rada</th>\n",
       "      <th></th>\n",
       "      <th></th>\n",
       "      <th></th>\n",
       "      <th></th>\n",
       "      <th></th>\n",
       "    </tr>\n",
       "  </thead>\n",
       "  <tbody>\n",
       "    <tr>\n",
       "      <th>Ekonomija, pravo i administracija</th>\n",
       "      <td>32583</td>\n",
       "      <td>11106</td>\n",
       "      <td>21477</td>\n",
       "      <td>34.09</td>\n",
       "      <td>65.91</td>\n",
       "    </tr>\n",
       "    <tr>\n",
       "      <th>Elektrotehnika</th>\n",
       "      <td>28269</td>\n",
       "      <td>25776</td>\n",
       "      <td>2493</td>\n",
       "      <td>91.18</td>\n",
       "      <td>8.82</td>\n",
       "    </tr>\n",
       "  </tbody>\n",
       "</table>\n",
       "</div>"
      ],
      "text/plain": [
       "                                   Ukupno učenika  Ukupno decaka  \\\n",
       "Područje rada                                                      \n",
       "Ekonomija, pravo i administracija           32583          11106   \n",
       "Elektrotehnika                              28269          25776   \n",
       "\n",
       "                                   Ukupno devojcica  Procenat decaka  \\\n",
       "Područje rada                                                          \n",
       "Ekonomija, pravo i administracija             21477            34.09   \n",
       "Elektrotehnika                                 2493            91.18   \n",
       "\n",
       "                                   Procenat devojcica  \n",
       "Područje rada                                          \n",
       "Ekonomija, pravo i administracija               65.91  \n",
       "Elektrotehnika                                   8.82  "
      ]
     },
     "execution_count": 32,
     "metadata": {},
     "output_type": "execute_result"
    }
   ],
   "source": [
    "podrucjapopolu.head(2)"
   ]
  },
  {
   "cell_type": "markdown",
   "metadata": {},
   "source": [
    "Сортирајмо податке по популарности међу једним од полова и можемо их графички представити опет уз помоћ стубичастих дијаграма, овај пут користећи и опцију *stacked* тако да су све вредности за различита подручја рада представљене на истом стубићу само различитим бојама."
   ]
  },
  {
   "cell_type": "code",
   "execution_count": 33,
   "metadata": {},
   "outputs": [],
   "source": [
    "podrucjapopolu = podrucjapopolu.sort_values(by='Procenat devojcica')"
   ]
  },
  {
   "cell_type": "code",
   "execution_count": 34,
   "metadata": {
    "scrolled": false
   },
   "outputs": [
    {
     "data": {
      "image/png": "[encoded data removed]",
      "text/plain": [
       "<Figure size 432x288 with 1 Axes>"
      ]
     },
     "metadata": {
      "needs_background": "light"
     },
     "output_type": "display_data"
    }
   ],
   "source": [
    "podrucjapopolu[['Procenat decaka','Procenat devojcica']].plot(kind='barh',stacked=True,color=('#6fa98c','#643a78'))\n",
    "plt.xlim(0, 100)\n",
    "plt.xlabel('Procenat učenika')\n",
    "plt.legend(('Procenat dečaka','Procenat devojčica'), loc='center left', bbox_to_anchor=(1, 0.92))\n",
    "plt.show()"
   ]
  },
  {
   "cell_type": "markdown",
   "metadata": {},
   "source": [
    "Овде смо искористили пар додатних опција у односу на претходне графиконе (коментаришући појединачно сваку од линија можете истражити колико се добијени график разликује) - дефинисали смо специфичне боје користећи хексадекадне кодове (color=('#6fa98c','#643a78')), распон х осе (од 0 до 100%), као и позицију и садржај легенде."
   ]
  },
  {
   "cell_type": "markdown",
   "metadata": {},
   "source": [
    "Иако нам информације о заступљености полова у процентима говоре о односу дечака и девојчица у одређеним областима средњошколског образовања, изгубили смо из вида укупне бројеве заинтересованих по областима. Други начин да представимо ове податке је тако што упоредно цртамо стубиће за различите полове и приказујемо укупне бројеве ученика а не проценте:"
   ]
  },
  {
   "cell_type": "code",
   "execution_count": 35,
   "metadata": {},
   "outputs": [
    {
     "data": {
      "image/png": "[encoded data removed]",
      "text/plain": [
       "<Figure size 432x288 with 1 Axes>"
      ]
     },
     "metadata": {
      "needs_background": "light"
     },
     "output_type": "display_data"
    }
   ],
   "source": [
    "podrucjapopolu[['Ukupno decaka','Ukupno devojcica']].plot(kind='barh',color=('#6fa98c','#643a78'))\n",
    "plt.legend(('Ukupan broj dečaka','Ukupan broj devojčica'), loc='center left', bbox_to_anchor=(1, 0.92))\n",
    "plt.xlabel('Broj učenika')\n",
    "plt.show()"
   ]
  },
  {
   "cell_type": "markdown",
   "metadata": {},
   "source": [
    "Често је практично да два графика сагледамо упоредо, за шта је практична функција [**subplots**](https://matplotlib.org/3.3.0/api/_as_gen/matplotlib.pyplot.subplot.html). Први аргументи ове функције су димензије \"табеле\" у коју ће графици бити постављени, оно што би нам тренутно било згодно је да имамо 2 графика постављена један до другог, дакле 1 ред, 2 колоне графика. Додатно, можемо дефинисати и величину слике. "
   ]
  },
  {
   "cell_type": "markdown",
   "metadata": {},
   "source": [
    "Резултат **subplots** функције смештамо у **axs** што је низ оса, односно локација на које ћемо нацртати жељене подграфике. Цртање на овим подграфицима решавамо прослеђивањем ових локација функцији *plot*, као што је приказано у наставку:"
   ]
  },
  {
   "cell_type": "code",
   "execution_count": 36,
   "metadata": {
    "scrolled": false
   },
   "outputs": [
    {
     "data": {
      "image/png": "[encoded data removed]",
      "text/plain": [
       "<Figure size 864x432 with 2 Axes>"
      ]
     },
     "metadata": {
      "needs_background": "light"
     },
     "output_type": "display_data"
    }
   ],
   "source": [
    "fig, axs = plt.subplots(1,2, figsize=(12, 6))\n",
    "\n",
    "podrucjapopolu[['Procenat decaka','Procenat devojcica']].plot(ax=axs[0], kind='barh',stacked=True,color=('#6fa98c','#643a78'))\n",
    "axs[0].set_xlim(0, 100)\n",
    "axs[0].set_xlabel('Procenat dečaka i devojčica')\n",
    "axs[0].legend('')\n",
    "\n",
    "podrucjapopolu[['Ukupno decaka','Ukupno devojcica']].plot(ax=axs[1],kind='barh',color=('#6fa98c','#643a78'))\n",
    "axs[1].set_yticks([]) # Нису нам потребни називи стубића на десном дијаграму обзиром да су исти као и на левом.\n",
    "axs[1].set_ylabel('') # Слично можемо извацити назив у осе.\n",
    "axs[1].set_xlabel('Ukupan broj dečaka i devojčica')\n",
    "axs[1].legend(['Dečaci','Devojčice'])\n",
    "\n",
    "plt.subplots_adjust(wspace=0.05)"
   ]
  },
  {
   "cell_type": "markdown",
   "metadata": {},
   "source": [
    "Посматрајући ове графике заједно видимо да некада разлика од пар десетина процената може бити разлика од пар стотина ученика (нпр. култура, уметрност и јавно информисање), док некад разлика од пар процената може бити разлика од десет и више хиљада ученика (нпр. гимназије)."
   ]
  },
  {
   "cell_type": "markdown",
   "metadata": {},
   "source": [
    "Да се убедимо да постоје средњошколци заинтересовани за Хидрометеорологију (обзиром да су невидљиви на десном графику), издвојићемо само ту област из табеле користећи `.loc`:"
   ]
  },
  {
   "cell_type": "code",
   "execution_count": 37,
   "metadata": {
    "scrolled": true
   },
   "outputs": [
    {
     "data": {
      "text/plain": [
       "Ukupno učenika        210.00\n",
       "Ukupno decaka          75.00\n",
       "Ukupno devojcica      135.00\n",
       "Procenat decaka        35.71\n",
       "Procenat devojcica     64.29\n",
       "Name: Hidrometeorologija, dtype: float64"
      ]
     },
     "execution_count": 37,
     "metadata": {},
     "output_type": "execute_result"
    }
   ],
   "source": [
    "podrucjapopolu.loc['Hidrometeorologija']"
   ]
  },
  {
   "cell_type": "markdown",
   "metadata": {},
   "source": [
    "## Задаци"
   ]
  },
  {
   "cell_type": "markdown",
   "metadata": {},
   "source": [
    "1. Користећи хистограме истражити расподелу броја наставника запослених у средњим школама у Србији. Испробајте различите опције - од броја или граница интервала, до боја правоугаоника и њихових ивица. Додајте на овај график и вертикалне линије које означавају просечну и медијалну вредност."
   ]
  },
  {
   "cell_type": "code",
   "execution_count": null,
   "metadata": {},
   "outputs": [],
   "source": []
  },
  {
   "cell_type": "markdown",
   "metadata": {},
   "source": [
    "2. Слично као што смо груписањем и сумирањем истражили број ученика по областима образовања и дужини трајања образовања, истражити разноврсност наставе на различитим језицима. \n",
    "\n",
    "    (а) Групишите податке по језику наставе и креирајте табелу у којој за сваки језик имате број одељења и укупан број ученика који се школују на том језику.\n",
    "\n",
    "    (б) Резултате представити хоризонталним стубичастим дијаграмима (где је дужина стубића број одељења или број ученика).\n",
    "\n",
    "    (в) За неки од заступљенијих језика по избору (нпр. мађарски), истражити популарност (укупан број ученика) различитих подручја рада. Да ли се ранг листа по популарности различитих образовних профила на различитим језицима разликују?"
   ]
  },
  {
   "cell_type": "code",
   "execution_count": null,
   "metadata": {},
   "outputs": [],
   "source": []
  },
  {
   "cell_type": "markdown",
   "metadata": {},
   "source": [
    "3. Фокусирајући се на једну општину по избору, истражите величину школа, број различитих одељења као и број различитих образовних профила.\n",
    "(Различите општине можете истражити уз помоћ: ```srednjoskolci['Opština'].unique()```)"
   ]
  },
  {
   "cell_type": "code",
   "execution_count": null,
   "metadata": {},
   "outputs": [],
   "source": []
  }
 ],
 "metadata": {
  "kernelspec": {
   "display_name": "Python 3",
   "language": "python",
   "name": "python3"
  },
  "language_info": {
   "codemirror_mode": {
    "name": "ipython",
    "version": 3
   },
   "file_extension": ".py",
   "mimetype": "text/x-python",
   "name": "python",
   "nbconvert_exporter": "python",
   "pygments_lexer": "ipython3",
   "version": "3.9.1"
  }
 },
 "nbformat": 4,
 "nbformat_minor": 2
}
