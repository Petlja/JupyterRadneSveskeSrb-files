{
 "cells": [
  {
   "cell_type": "markdown",
   "metadata": {},
   "source": [
    "# Анализа текстуалних података"
   ]
  },
  {
   "cell_type": "markdown",
   "metadata": {},
   "source": [
    "Податке које генеришемо и/ли желимо да обрадимо и анализирамо често су у текстуалном формату (помислите на текстове закона, текстове порука размењених на друштвеним мрежама, извештаје лекара,...). Из овог разлога, јако је битно да се бар дотакнемо анализе текстуалних података у овом сегменту. Ова област анализе података је изузетно велика и активна (нове методе и алгоритми генеришу се готово на дневном нивоу), те не претендујемо да овде одговоримо на сва питања у вези са текстом. Циљ је да отворимо нека питања и понудимо неке од једноставних алата за анализе, али и да вас оставимо мотивисаним за даља истраживања ових тема.\n",
    "У овој радној свесци користићемо претходно припремљене податке настале преузимањем текста са веб стране petlja.org и књиге Ана Карењина са платформe пројекта Гутенберг. Текст типично не долази у табеларној форми, али често (као што сте имали прилику да видите у неким другим радним свескама) колоне садрже различите текстуалне садржаје. У додатку, на крају приручника, налазе се радне свеске за преузимање текстова и књига са сајта, а прерађен, једнсотаван излаз тих свески су табеларни подаци за једноставан унос и анализу у овој и наредној свесци. У овој свесци наш циљ је да:\n",
    "- урадимо фреквенцијску анализу слова у тексту и упоредимо која слова су и у којој мери заступљена у српском и енглеском тексту на исту тему\n",
    "- урадимо фреквенцијску анализу речи и тиме идентификујемо неке од кључних тема којима се текст бави\n",
    "- емпиријски истражимо везу између фреквенције речи у тексту и њеног ранга, такозвани Зипов закон"
   ]
  },
  {
   "cell_type": "code",
   "execution_count": 1,
   "metadata": {},
   "outputs": [],
   "source": [
    "import pandas as pd\n",
    "import numpy as np\n",
    "import matplotlib.pyplot as plt\n",
    "import cyrtranslit"
   ]
  },
  {
   "cell_type": "markdown",
   "metadata": {},
   "source": [
    "## Кључне речи у текстовима са веба:"
   ]
  },
  {
   "cell_type": "markdown",
   "metadata": {},
   "source": [
    "Кренућемо од анализе кратких текстова о фондацији Петља преузетих са сајта [petlja.org](petlja.org). Ово нам је интересантно зато што имамо исти текст и на српском и енглеском језику па можемо направити мало поређење дужина речи, заступљености различитих слова у различитим језицима. \n",
    "\n",
    "У фолдеру са подацима, налазе се и радне свеске коришћене за преузимање и пречишћавање ових текстова, а као продукт тог рада, овде учитавамо једноставне табеле речи настале од ових текстова:"
   ]
  },
  {
   "cell_type": "code",
   "execution_count": 2,
   "metadata": {},
   "outputs": [
    {
     "data": {
      "text/html": [
       "<div>\n",
       "<style scoped>\n",
       "    .dataframe tbody tr th:only-of-type {\n",
       "        vertical-align: middle;\n",
       "    }\n",
       "\n",
       "    .dataframe tbody tr th {\n",
       "        vertical-align: top;\n",
       "    }\n",
       "\n",
       "    .dataframe thead th {\n",
       "        text-align: right;\n",
       "    }\n",
       "</style>\n",
       "<table border=\"1\" class=\"dataframe\">\n",
       "  <thead>\n",
       "    <tr style=\"text-align: right;\">\n",
       "      <th></th>\n",
       "      <th>Rec</th>\n",
       "      <th>Duzina_reci</th>\n",
       "    </tr>\n",
       "  </thead>\n",
       "  <tbody>\n",
       "    <tr>\n",
       "      <th>0</th>\n",
       "      <td>Smatramo</td>\n",
       "      <td>8</td>\n",
       "    </tr>\n",
       "    <tr>\n",
       "      <th>1</th>\n",
       "      <td>da</td>\n",
       "      <td>2</td>\n",
       "    </tr>\n",
       "  </tbody>\n",
       "</table>\n",
       "</div>"
      ],
      "text/plain": [
       "        Rec  Duzina_reci\n",
       "0  Smatramo            8\n",
       "1        da            2"
      ]
     },
     "execution_count": 2,
     "metadata": {},
     "output_type": "execute_result"
    }
   ],
   "source": [
    "petlja_rs = pd.read_csv('data/tekst data/petlja_srb_reci.csv')\n",
    "petlja_en = pd.read_csv('data/tekst data/petlja_eng_reci.csv')\n",
    "petlja_rs.head(2)"
   ]
  },
  {
   "cell_type": "code",
   "execution_count": 3,
   "metadata": {},
   "outputs": [
    {
     "data": {
      "text/html": [
       "<div>\n",
       "<style scoped>\n",
       "    .dataframe tbody tr th:only-of-type {\n",
       "        vertical-align: middle;\n",
       "    }\n",
       "\n",
       "    .dataframe tbody tr th {\n",
       "        vertical-align: top;\n",
       "    }\n",
       "\n",
       "    .dataframe thead th {\n",
       "        text-align: right;\n",
       "    }\n",
       "</style>\n",
       "<table border=\"1\" class=\"dataframe\">\n",
       "  <thead>\n",
       "    <tr style=\"text-align: right;\">\n",
       "      <th></th>\n",
       "      <th>Rec</th>\n",
       "      <th>Duzina_reci</th>\n",
       "    </tr>\n",
       "  </thead>\n",
       "  <tbody>\n",
       "    <tr>\n",
       "      <th>0</th>\n",
       "      <td>We</td>\n",
       "      <td>2</td>\n",
       "    </tr>\n",
       "    <tr>\n",
       "      <th>1</th>\n",
       "      <td>believe</td>\n",
       "      <td>7</td>\n",
       "    </tr>\n",
       "  </tbody>\n",
       "</table>\n",
       "</div>"
      ],
      "text/plain": [
       "       Rec  Duzina_reci\n",
       "0       We            2\n",
       "1  believe            7"
      ]
     },
     "execution_count": 3,
     "metadata": {},
     "output_type": "execute_result"
    }
   ],
   "source": [
    "petlja_en.head(2)"
   ]
  },
  {
   "cell_type": "markdown",
   "metadata": {},
   "source": [
    "Видимо да обе табеле (у којима је текст на српском и на енглеском) поред индекса садрже колону у којој су све речи из текста и колону у којој су одговарајуће дужине речи. Можемо почети проверавајући колико се број речи разликује између ова два текста простим поређењем дужина ових табела:"
   ]
  },
  {
   "cell_type": "code",
   "execution_count": 4,
   "metadata": {},
   "outputs": [
    {
     "data": {
      "text/plain": [
       "(578, 433)"
      ]
     },
     "execution_count": 4,
     "metadata": {},
     "output_type": "execute_result"
    }
   ],
   "source": [
    "(len(petlja_en),len(petlja_rs))"
   ]
  },
  {
   "cell_type": "markdown",
   "metadata": {},
   "source": [
    "Видимо да постоји разлика у дужини текстова ако посматрамо број речи, а можемо погледати и како стоје ствари ако поредимо дужине речи из одговоарајуће колоне користећи хистограме:"
   ]
  },
  {
   "cell_type": "code",
   "execution_count": 5,
   "metadata": {},
   "outputs": [
    {
     "data": {
      "image/png": "[encoded data removed]",
      "text/plain": [
       "<Figure size 432x288 with 1 Axes>"
      ]
     },
     "metadata": {},
     "output_type": "display_data"
    }
   ],
   "source": [
    "plt.hist(petlja_en['Duzina_reci'],bins=range(max(petlja_en['Duzina_reci'])),alpha=0.7,label='engleski',color='lightgrey')\n",
    "plt.axvline(x=np.mean(petlja_en['Duzina_reci']),color='lightgrey')\n",
    "\n",
    "plt.hist(petlja_rs['Duzina_reci'],bins=range(max(petlja_rs['Duzina_reci'])),alpha=0.7,label='srpski',color='#52bd9d') \n",
    "plt.axvline(x=np.mean(petlja_rs['Duzina_reci']),color='#52bd9d',linestyle='dashed') #вертикална линија која обележава просечну дужину речи\n",
    "\n",
    "plt.xlabel('Dužina reči')\n",
    "plt.ylabel('Broj reči odgovarajuće dužine')\n",
    "plt.legend()\n",
    "plt.show()"
   ]
  },
  {
   "cell_type": "markdown",
   "metadata": {},
   "source": [
    "На дијаграму изнад представљено је колико се речи одговарајуће дужине може наћи у сваком од два текста (српски текст oбележен је тиркизном - кодом који одговара боји логао Петље, а енглески сивом бојом). Видимо да у оба језика постоје речи од једног до 13 карактера, али се заступљеност речи различитих дужина разликују (погледајте на пример речи дужине између до пет карактера), што за последицу има и да се просечна дужина речи у тексту разликује (означено вертикалним линијама)."
   ]
  },
  {
   "cell_type": "markdown",
   "metadata": {},
   "source": [
    "Међутим, на дијаграму изнад смо посматрали само дужине речи из текста, где смо и речи које се појављују више пута, више пута уврстили, ако хоћемо да пребројимо јединствене речи коришћене у текстовима, морамо за почетак сва слова исписати малим словима, да бисмо и речи са почетака реченица лепо урачунали. Да бисмо то урадили, користимо функцију **apply** којом згодно можемо применити функцију на колону - елемент по елемент. У овом случају примењујемо функцију **str.lower** којом се сва слова у стрингу смањују:"
   ]
  },
  {
   "cell_type": "code",
   "execution_count": 6,
   "metadata": {},
   "outputs": [
    {
     "data": {
      "text/html": [
       "<div>\n",
       "<style scoped>\n",
       "    .dataframe tbody tr th:only-of-type {\n",
       "        vertical-align: middle;\n",
       "    }\n",
       "\n",
       "    .dataframe tbody tr th {\n",
       "        vertical-align: top;\n",
       "    }\n",
       "\n",
       "    .dataframe thead th {\n",
       "        text-align: right;\n",
       "    }\n",
       "</style>\n",
       "<table border=\"1\" class=\"dataframe\">\n",
       "  <thead>\n",
       "    <tr style=\"text-align: right;\">\n",
       "      <th></th>\n",
       "      <th>Rec</th>\n",
       "      <th>Duzina_reci</th>\n",
       "      <th>Rec_malim_slovima</th>\n",
       "    </tr>\n",
       "  </thead>\n",
       "  <tbody>\n",
       "    <tr>\n",
       "      <th>0</th>\n",
       "      <td>Smatramo</td>\n",
       "      <td>8</td>\n",
       "      <td>smatramo</td>\n",
       "    </tr>\n",
       "    <tr>\n",
       "      <th>1</th>\n",
       "      <td>da</td>\n",
       "      <td>2</td>\n",
       "      <td>da</td>\n",
       "    </tr>\n",
       "  </tbody>\n",
       "</table>\n",
       "</div>"
      ],
      "text/plain": [
       "        Rec  Duzina_reci Rec_malim_slovima\n",
       "0  Smatramo            8          smatramo\n",
       "1        da            2                da"
      ]
     },
     "execution_count": 6,
     "metadata": {},
     "output_type": "execute_result"
    }
   ],
   "source": [
    "petlja_en['Rec_malim_slovima'] = petlja_en['Rec'].apply(str.lower)\n",
    "petlja_rs['Rec_malim_slovima'] = petlja_rs['Rec'].apply(str.lower)\n",
    "petlja_rs.head(2)"
   ]
  },
  {
   "cell_type": "markdown",
   "metadata": {},
   "source": [
    "За бројање појављивања сваке од речи можемо искористити функцију **value_counts**:"
   ]
  },
  {
   "cell_type": "code",
   "execution_count": 7,
   "metadata": {},
   "outputs": [
    {
     "data": {
      "text/plain": [
       "i                35\n",
       "da               14\n",
       "u                13\n",
       "je               12\n",
       "za                9\n",
       "algoritamske      7\n",
       "programiranja     7\n",
       "pismenosti        7\n",
       "su                6\n",
       "se                6\n",
       "Name: Rec_malim_slovima, dtype: int64"
      ]
     },
     "execution_count": 7,
     "metadata": {},
     "output_type": "execute_result"
    }
   ],
   "source": [
    "petlja_rs['Rec_malim_slovima'].value_counts()[:10]"
   ]
  },
  {
   "cell_type": "markdown",
   "metadata": {},
   "source": [
    "Исходе ових пребројавања можемо такође сачувати у одговарајуће табеле:"
   ]
  },
  {
   "cell_type": "code",
   "execution_count": 8,
   "metadata": {
    "scrolled": true
   },
   "outputs": [
    {
     "data": {
      "text/html": [
       "<div>\n",
       "<style scoped>\n",
       "    .dataframe tbody tr th:only-of-type {\n",
       "        vertical-align: middle;\n",
       "    }\n",
       "\n",
       "    .dataframe tbody tr th {\n",
       "        vertical-align: top;\n",
       "    }\n",
       "\n",
       "    .dataframe thead th {\n",
       "        text-align: right;\n",
       "    }\n",
       "</style>\n",
       "<table border=\"1\" class=\"dataframe\">\n",
       "  <thead>\n",
       "    <tr style=\"text-align: right;\">\n",
       "      <th></th>\n",
       "      <th>Rec_malim_slovima</th>\n",
       "    </tr>\n",
       "  </thead>\n",
       "  <tbody>\n",
       "    <tr>\n",
       "      <th>i</th>\n",
       "      <td>35</td>\n",
       "    </tr>\n",
       "    <tr>\n",
       "      <th>da</th>\n",
       "      <td>14</td>\n",
       "    </tr>\n",
       "  </tbody>\n",
       "</table>\n",
       "</div>"
      ],
      "text/plain": [
       "    Rec_malim_slovima\n",
       "i                  35\n",
       "da                 14"
      ]
     },
     "execution_count": 8,
     "metadata": {},
     "output_type": "execute_result"
    }
   ],
   "source": [
    "jedinstvene_reci_rs = pd.DataFrame(petlja_rs['Rec_malim_slovima'].value_counts())\n",
    "jedinstvene_reci_en = pd.DataFrame(petlja_en['Rec_malim_slovima'].value_counts())\n",
    "jedinstvene_reci_rs.head(2)"
   ]
  },
  {
   "cell_type": "markdown",
   "metadata": {},
   "source": [
    "Колона са речима је индексна, па ћемо увесто опет стандардно индексирање редним бројевима функцијом **reset_index**, a затим ћемо и преименовати колоне функцијом **rename**:"
   ]
  },
  {
   "cell_type": "code",
   "execution_count": 9,
   "metadata": {},
   "outputs": [
    {
     "data": {
      "text/html": [
       "<div>\n",
       "<style scoped>\n",
       "    .dataframe tbody tr th:only-of-type {\n",
       "        vertical-align: middle;\n",
       "    }\n",
       "\n",
       "    .dataframe tbody tr th {\n",
       "        vertical-align: top;\n",
       "    }\n",
       "\n",
       "    .dataframe thead th {\n",
       "        text-align: right;\n",
       "    }\n",
       "</style>\n",
       "<table border=\"1\" class=\"dataframe\">\n",
       "  <thead>\n",
       "    <tr style=\"text-align: right;\">\n",
       "      <th></th>\n",
       "      <th>index</th>\n",
       "      <th>Rec_malim_slovima</th>\n",
       "    </tr>\n",
       "  </thead>\n",
       "  <tbody>\n",
       "    <tr>\n",
       "      <th>0</th>\n",
       "      <td>i</td>\n",
       "      <td>35</td>\n",
       "    </tr>\n",
       "    <tr>\n",
       "      <th>1</th>\n",
       "      <td>da</td>\n",
       "      <td>14</td>\n",
       "    </tr>\n",
       "  </tbody>\n",
       "</table>\n",
       "</div>"
      ],
      "text/plain": [
       "  index  Rec_malim_slovima\n",
       "0     i                 35\n",
       "1    da                 14"
      ]
     },
     "execution_count": 9,
     "metadata": {},
     "output_type": "execute_result"
    }
   ],
   "source": [
    "jedinstvene_reci_rs = jedinstvene_reci_rs.reset_index()\n",
    "jedinstvene_reci_rs.head(2)"
   ]
  },
  {
   "cell_type": "code",
   "execution_count": 10,
   "metadata": {},
   "outputs": [
    {
     "data": {
      "text/html": [
       "<div>\n",
       "<style scoped>\n",
       "    .dataframe tbody tr th:only-of-type {\n",
       "        vertical-align: middle;\n",
       "    }\n",
       "\n",
       "    .dataframe tbody tr th {\n",
       "        vertical-align: top;\n",
       "    }\n",
       "\n",
       "    .dataframe thead th {\n",
       "        text-align: right;\n",
       "    }\n",
       "</style>\n",
       "<table border=\"1\" class=\"dataframe\">\n",
       "  <thead>\n",
       "    <tr style=\"text-align: right;\">\n",
       "      <th></th>\n",
       "      <th>Rec_malim_slovima</th>\n",
       "      <th>Broj_pojavljivanja_reci</th>\n",
       "    </tr>\n",
       "  </thead>\n",
       "  <tbody>\n",
       "    <tr>\n",
       "      <th>0</th>\n",
       "      <td>i</td>\n",
       "      <td>35</td>\n",
       "    </tr>\n",
       "    <tr>\n",
       "      <th>1</th>\n",
       "      <td>da</td>\n",
       "      <td>14</td>\n",
       "    </tr>\n",
       "  </tbody>\n",
       "</table>\n",
       "</div>"
      ],
      "text/plain": [
       "  Rec_malim_slovima  Broj_pojavljivanja_reci\n",
       "0                 i                       35\n",
       "1                da                       14"
      ]
     },
     "execution_count": 10,
     "metadata": {},
     "output_type": "execute_result"
    }
   ],
   "source": [
    "jedinstvene_reci_rs = jedinstvene_reci_rs.rename(columns={'index':'Rec_malim_slovima','Rec_malim_slovima':'Broj_pojavljivanja_reci'})\n",
    "jedinstvene_reci_rs.head(2)"
   ]
  },
  {
   "cell_type": "code",
   "execution_count": 11,
   "metadata": {},
   "outputs": [],
   "source": [
    "jedinstvene_reci_en = jedinstvene_reci_en.reset_index()\n",
    "jedinstvene_reci_en = jedinstvene_reci_en.rename(columns={'index':'Rec_malim_slovima','Rec_malim_slovima':'Broj_pojavljivanja_reci'})"
   ]
  },
  {
   "cell_type": "markdown",
   "metadata": {},
   "source": [
    "Уколико другачије није назначено опционим аргументом *sort* функција **value_counts** враћа сортиране резултате, у опадајућем редоследу. Хајде да видимо по 10 најчешћих речи у текстовима на оба језика:"
   ]
  },
  {
   "cell_type": "code",
   "execution_count": 12,
   "metadata": {
    "scrolled": true
   },
   "outputs": [
    {
     "data": {
      "text/html": [
       "<div>\n",
       "<style scoped>\n",
       "    .dataframe tbody tr th:only-of-type {\n",
       "        vertical-align: middle;\n",
       "    }\n",
       "\n",
       "    .dataframe tbody tr th {\n",
       "        vertical-align: top;\n",
       "    }\n",
       "\n",
       "    .dataframe thead th {\n",
       "        text-align: right;\n",
       "    }\n",
       "</style>\n",
       "<table border=\"1\" class=\"dataframe\">\n",
       "  <thead>\n",
       "    <tr style=\"text-align: right;\">\n",
       "      <th></th>\n",
       "      <th>Rec_malim_slovima</th>\n",
       "      <th>Broj_pojavljivanja_reci</th>\n",
       "    </tr>\n",
       "  </thead>\n",
       "  <tbody>\n",
       "    <tr>\n",
       "      <th>0</th>\n",
       "      <td>i</td>\n",
       "      <td>35</td>\n",
       "    </tr>\n",
       "    <tr>\n",
       "      <th>1</th>\n",
       "      <td>da</td>\n",
       "      <td>14</td>\n",
       "    </tr>\n",
       "    <tr>\n",
       "      <th>2</th>\n",
       "      <td>u</td>\n",
       "      <td>13</td>\n",
       "    </tr>\n",
       "    <tr>\n",
       "      <th>3</th>\n",
       "      <td>je</td>\n",
       "      <td>12</td>\n",
       "    </tr>\n",
       "    <tr>\n",
       "      <th>4</th>\n",
       "      <td>za</td>\n",
       "      <td>9</td>\n",
       "    </tr>\n",
       "    <tr>\n",
       "      <th>5</th>\n",
       "      <td>algoritamske</td>\n",
       "      <td>7</td>\n",
       "    </tr>\n",
       "    <tr>\n",
       "      <th>6</th>\n",
       "      <td>programiranja</td>\n",
       "      <td>7</td>\n",
       "    </tr>\n",
       "    <tr>\n",
       "      <th>7</th>\n",
       "      <td>pismenosti</td>\n",
       "      <td>7</td>\n",
       "    </tr>\n",
       "    <tr>\n",
       "      <th>8</th>\n",
       "      <td>su</td>\n",
       "      <td>6</td>\n",
       "    </tr>\n",
       "    <tr>\n",
       "      <th>9</th>\n",
       "      <td>se</td>\n",
       "      <td>6</td>\n",
       "    </tr>\n",
       "  </tbody>\n",
       "</table>\n",
       "</div>"
      ],
      "text/plain": [
       "  Rec_malim_slovima  Broj_pojavljivanja_reci\n",
       "0                 i                       35\n",
       "1                da                       14\n",
       "2                 u                       13\n",
       "3                je                       12\n",
       "4                za                        9\n",
       "5      algoritamske                        7\n",
       "6     programiranja                        7\n",
       "7        pismenosti                        7\n",
       "8                su                        6\n",
       "9                se                        6"
      ]
     },
     "execution_count": 12,
     "metadata": {},
     "output_type": "execute_result"
    }
   ],
   "source": [
    "jedinstvene_reci_rs[:10]"
   ]
  },
  {
   "cell_type": "code",
   "execution_count": 13,
   "metadata": {},
   "outputs": [
    {
     "data": {
      "text/html": [
       "<div>\n",
       "<style scoped>\n",
       "    .dataframe tbody tr th:only-of-type {\n",
       "        vertical-align: middle;\n",
       "    }\n",
       "\n",
       "    .dataframe tbody tr th {\n",
       "        vertical-align: top;\n",
       "    }\n",
       "\n",
       "    .dataframe thead th {\n",
       "        text-align: right;\n",
       "    }\n",
       "</style>\n",
       "<table border=\"1\" class=\"dataframe\">\n",
       "  <thead>\n",
       "    <tr style=\"text-align: right;\">\n",
       "      <th></th>\n",
       "      <th>Rec_malim_slovima</th>\n",
       "      <th>Broj_pojavljivanja_reci</th>\n",
       "    </tr>\n",
       "  </thead>\n",
       "  <tbody>\n",
       "    <tr>\n",
       "      <th>0</th>\n",
       "      <td>the</td>\n",
       "      <td>36</td>\n",
       "    </tr>\n",
       "    <tr>\n",
       "      <th>1</th>\n",
       "      <td>and</td>\n",
       "      <td>32</td>\n",
       "    </tr>\n",
       "    <tr>\n",
       "      <th>2</th>\n",
       "      <td>of</td>\n",
       "      <td>21</td>\n",
       "    </tr>\n",
       "    <tr>\n",
       "      <th>3</th>\n",
       "      <td>to</td>\n",
       "      <td>17</td>\n",
       "    </tr>\n",
       "    <tr>\n",
       "      <th>4</th>\n",
       "      <td>a</td>\n",
       "      <td>16</td>\n",
       "    </tr>\n",
       "    <tr>\n",
       "      <th>5</th>\n",
       "      <td>for</td>\n",
       "      <td>15</td>\n",
       "    </tr>\n",
       "    <tr>\n",
       "      <th>6</th>\n",
       "      <td>that</td>\n",
       "      <td>13</td>\n",
       "    </tr>\n",
       "    <tr>\n",
       "      <th>7</th>\n",
       "      <td>in</td>\n",
       "      <td>10</td>\n",
       "    </tr>\n",
       "    <tr>\n",
       "      <th>8</th>\n",
       "      <td>is</td>\n",
       "      <td>9</td>\n",
       "    </tr>\n",
       "    <tr>\n",
       "      <th>9</th>\n",
       "      <td>algorithmic</td>\n",
       "      <td>9</td>\n",
       "    </tr>\n",
       "  </tbody>\n",
       "</table>\n",
       "</div>"
      ],
      "text/plain": [
       "  Rec_malim_slovima  Broj_pojavljivanja_reci\n",
       "0               the                       36\n",
       "1               and                       32\n",
       "2                of                       21\n",
       "3                to                       17\n",
       "4                 a                       16\n",
       "5               for                       15\n",
       "6              that                       13\n",
       "7                in                       10\n",
       "8                is                        9\n",
       "9       algorithmic                        9"
      ]
     },
     "execution_count": 13,
     "metadata": {},
     "output_type": "execute_result"
    }
   ],
   "source": [
    "jedinstvene_reci_en[:10]"
   ]
  },
  {
   "cell_type": "markdown",
   "metadata": {},
   "source": [
    "На оба језика се у првих 10 речи поред разних везника, прилога, чланова и осталих речи које очекујемо у сваком тексту и које саме по себи не носе пуно значења, налазе и речи \"алгоритамске\", \"писмености\", \"програмирања\" и \"algorithmic\". Ако знате за Петљу, сигурно вас не чуди што су баш ове речи испливале на врх листе по популарности у тексту о Петљи. \n",
    "\n",
    "Сјајно је што једна овако једноставна анализа може дати кратки увид у неке од тема текста. Овде смо \"на око\" издвајали битне од небитних речи, али и то може бити аутоматизовано. Типично за различите језике постоје речници најфреквентијих речи, те се све анализе вашег текста могу фокусирати само на оне речи које су фреквентне у тексту који се истражује а нису фреквентне иначе. Наравно и оваква анализа има своја ограничења, на пример ако је у тексту кључни појам коришћен у различитим граматичким облицима или су коришћени различити синонима, то ће умањити број појављивањa, препознавање кључне речи ће нам вероватно промаћи."
   ]
  },
  {
   "cell_type": "markdown",
   "metadata": {},
   "source": [
    "## Заступљеност појединих слова у тексту"
   ]
  },
  {
   "cell_type": "markdown",
   "metadata": {},
   "source": [
    "Сада ћемо погледати да ли се заступљеност појединих слова разликује у овим текстовима на различитим језицима. Прво ћемо спојити у један текст све речи које се налазе у колонама. То можемо урадити функцијом **join**:"
   ]
  },
  {
   "cell_type": "code",
   "execution_count": 14,
   "metadata": {
    "scrolled": true
   },
   "outputs": [
    {
     "data": {
      "text/plain": [
       "'smatramo da je razumevanje algoritama i umeće algoritamskog izražavanja potrebno svima a takođe je v'"
      ]
     },
     "execution_count": 14,
     "metadata": {},
     "output_type": "execute_result"
    }
   ],
   "source": [
    "razmak = ' '\n",
    "tekst_en = razmak.join(petlja_en['Rec_malim_slovima'])\n",
    "tekst_rs = razmak.join(petlja_rs['Rec_malim_slovima'])\n",
    "tekst_rs[:100]"
   ]
  },
  {
   "cell_type": "markdown",
   "metadata": {},
   "source": [
    "Користећи функцију **count** за сваки од карактера можемо избројати појављивање свих слова, вредности ћемо сачувати у речник:"
   ]
  },
  {
   "cell_type": "code",
   "execution_count": 15,
   "metadata": {},
   "outputs": [],
   "source": [
    "alphabet_en = 'abcdefghijklmnopqrstuvwxyz'\n",
    "zastupljenost_slova_en=dict()\n",
    "for ch in alphabet_en:\n",
    "    zastupljenost_slova_en[ch]=tekst_en.count(ch)"
   ]
  },
  {
   "cell_type": "code",
   "execution_count": 16,
   "metadata": {},
   "outputs": [
    {
     "data": {
      "image/png": "[encoded data removed]",
      "text/plain": [
       "<Figure size 432x288 with 1 Axes>"
      ]
     },
     "metadata": {},
     "output_type": "display_data"
    }
   ],
   "source": [
    "plt.bar(range(len(alphabet_en)),zastupljenost_slova_en.values(),color='lightgrey')\n",
    "plt.xticks(range(len(alphabet_en)),zastupljenost_slova_en.keys())\n",
    "prosecna_zastupljenost = sum(zastupljenost_slova_en.values())/len(alphabet_en)\n",
    "plt.axhline(y = prosecna_zastupljenost,color = 'black',linestyle='dashed')\n",
    "plt.ylabel('Zastupljenost slova')\n",
    "plt.show()"
   ]
  },
  {
   "cell_type": "markdown",
   "metadata": {},
   "source": [
    "Како у тексту на српском са латиничним писмом имамо и двокарактерна слова, превешћемо прво текст у ћириличо писмо па тек онда извршити пребројавање. Преписивање текста у ћирилично писмо лако радимо користећи библиотеку *cyrtranslit* и функцију **to_cyrillic**:"
   ]
  },
  {
   "cell_type": "code",
   "execution_count": 17,
   "metadata": {
    "scrolled": true
   },
   "outputs": [
    {
     "data": {
      "text/plain": [
       "'сматрамо да је разумевање алгоритама и умеће алгоритамског изражавања потребно свима а такође је важ'"
      ]
     },
     "execution_count": 17,
     "metadata": {},
     "output_type": "execute_result"
    }
   ],
   "source": [
    "tekst_rs = cyrtranslit.to_cyrillic(tekst_rs,'sr')\n",
    "tekst_rs[:100]"
   ]
  },
  {
   "cell_type": "code",
   "execution_count": 18,
   "metadata": {},
   "outputs": [],
   "source": [
    "alphabet_rs = 'абцчћдџђефгхијклљмнњопрсштувзж'\n",
    "zastupljenost_slova_rs=dict()\n",
    "for ch in alphabet_rs:\n",
    "    zastupljenost_slova_rs[cyrtranslit.to_latin(ch)]=tekst_rs.count(ch)"
   ]
  },
  {
   "cell_type": "code",
   "execution_count": 19,
   "metadata": {
    "scrolled": true
   },
   "outputs": [
    {
     "data": {
      "image/png": "[encoded data removed]",
      "text/plain": [
       "<Figure size 432x288 with 1 Axes>"
      ]
     },
     "metadata": {},
     "output_type": "display_data"
    }
   ],
   "source": [
    "plt.bar(range(len(alphabet_rs)),zastupljenost_slova_rs.values(),color='#52BD9D')\n",
    "plt.xticks(range(len(alphabet_rs)),zastupljenost_slova_rs.keys())\n",
    "plt.axhline(y = sum(zastupljenost_slova_rs.values())/len(alphabet_rs),color = 'black',linestyle='dashed')\n",
    "plt.show()"
   ]
  },
  {
   "cell_type": "markdown",
   "metadata": {},
   "source": [
    "Видимо неке од разлика између ова два графика (на пример, у енглеском језикз је најпопуларније слово Е, на српском А), али да бисмо их лакше упоредили на у осу ћемо уместо укупног броја појављивања слова унети проценат текста који чини дато слово, зато што знамо да се ови текстови разликују по дужини."
   ]
  },
  {
   "cell_type": "code",
   "execution_count": 20,
   "metadata": {},
   "outputs": [],
   "source": [
    "total_en = sum(zastupljenost_slova_en.values())\n",
    "zastupljenost_slova_en = {ch:100 * zastupljenost_slova_en[ch]/total_en for ch in zastupljenost_slova_en.keys()}\n",
    "\n",
    "total_rs = sum(zastupljenost_slova_rs.values())\n",
    "zastupljenost_slova_rs = {ch:100 * zastupljenost_slova_rs[ch]/total_rs for ch in zastupljenost_slova_rs.keys()}"
   ]
  },
  {
   "cell_type": "markdown",
   "metadata": {},
   "source": [
    "Графике за два различита језика можемо представити упоредно на следећи начин користећи функцију **subplot**. За лакше поређење ова два графика дефинисали смо исти опсег у осе за оба и додали смо као и раније хоризонталне линије да означе просечну заступљеност слова:"
   ]
  },
  {
   "cell_type": "code",
   "execution_count": 21,
   "metadata": {},
   "outputs": [
    {
     "data": {
      "image/png": "[encoded data removed]",
      "text/plain": [
       "<Figure size 720x288 with 2 Axes>"
      ]
     },
     "metadata": {},
     "output_type": "display_data"
    }
   ],
   "source": [
    "plt.figure(figsize=(10,4))\n",
    "plt.subplot(1,2,1)\n",
    "plt.bar(range(len(alphabet_en)),zastupljenost_slova_en.values(),color='lightgrey')\n",
    "plt.xticks(range(len(alphabet_en)),zastupljenost_slova_en.keys())\n",
    "plt.ylim([0,14])\n",
    "avg_frequency = sum(zastupljenost_slova_en.values())/len(alphabet_en)\n",
    "plt.axhline(y = avg_frequency,color = 'black',linestyle='dashed')\n",
    "plt.ylabel('Zastupljenost slova [%]')\n",
    "plt.title('Engleski jezik')\n",
    "\n",
    "plt.subplot(1,2,2)\n",
    "plt.bar(range(len(alphabet_rs)),zastupljenost_slova_rs.values(),color='#52BD9D')\n",
    "plt.xticks(range(len(alphabet_rs)),zastupljenost_slova_rs.keys())\n",
    "plt.ylim([0,14])\n",
    "avg_frequency = sum(zastupljenost_slova_rs.values())/len(alphabet_rs)\n",
    "plt.axhline(y = avg_frequency,color = 'black',linestyle='dashed')\n",
    "plt.title('Srpski jezik')\n",
    "\n",
    "plt.show()"
   ]
  },
  {
   "cell_type": "markdown",
   "metadata": {},
   "source": [
    "А можемо податке представити и на истом дијаграму тако што ћемо се фокусирати само на слова која се појављују у оба језика:"
   ]
  },
  {
   "cell_type": "code",
   "execution_count": 22,
   "metadata": {},
   "outputs": [
    {
     "data": {
      "image/png": "[encoded data removed]",
      "text/plain": [
       "<Figure size 432x288 with 1 Axes>"
      ]
     },
     "metadata": {},
     "output_type": "display_data"
    }
   ],
   "source": [
    "zajednickaslova='abcdefghijklmnoprstuvz'\n",
    "\n",
    "plt.bar(range(len(zajednickaslova)),[zastupljenost_slova_rs[k] for k in zajednickaslova],alpha=0.7,label='na srpskom jeziku',color='#52BD9D');\n",
    "plt.bar(range(len(zajednickaslova)),[zastupljenost_slova_en[k] for k in zajednickaslova],alpha=0.7,label='na engleskom jeziku',color='lightgrey');\n",
    "\n",
    "plt.xticks(range(len(zajednickaslova)),[zajednickaslova[i] for i in range(len(zajednickaslova))]);\n",
    "plt.ylabel('Zatupljenost slova u procentima')\n",
    "plt.title('Tekst o fondaciji Petlja')\n",
    "plt.legend()\n",
    "plt.show()"
   ]
  },
  {
   "cell_type": "markdown",
   "metadata": {},
   "source": [
    "Чињеница да сe учесталост појединих слова у тексту разликује била је врло корисна за дешифровање текстова у раном периоду криптографије (погледати Цезарову шифру или генералније моноалфабетску супституцију). А информација коју смо добили са претходног графика (да су поједина слова различито популарна на различитим језицима) била је од користи за имплементацију једноставних алгоритама за детекцију језика на коме је текст написан. Наравно како постоје изузеци, као на пример [овај](https://en.wikipedia.org/wiki/Gadsby_(novel)), овакви алгоритми су превазиђени."
   ]
  },
  {
   "cell_type": "markdown",
   "metadata": {
    "scrolled": true
   },
   "source": [
    "## Зипфов закон"
   ]
  },
  {
   "cell_type": "markdown",
   "metadata": {},
   "source": [
    "Претходно смо видели да се одређене речи у тексту појављују више пута, па ћемо у наставку ћемо детаљније истражити популарност (број понављања) речи у издвојеним текстовима. \n",
    "\n",
    "Веза између ранга речи (позицији речи на ранг листи најпопуларнијих у тексту) и броја појављивања, односно заступљености (фреквенције речи) у тексту, често се назива Зипфов закон. Очигледно је да речи са већим рангом имају нижу фреквенцију, међутим закон каже да је фреквенција речи у тексту обрнуто сразмерна њеном рангу. Хајде да проверимо да ли то важи на анализираним текстовима:"
   ]
  },
  {
   "cell_type": "code",
   "execution_count": 23,
   "metadata": {
    "scrolled": true
   },
   "outputs": [
    {
     "data": {
      "image/png": "[encoded data removed]",
      "text/plain": [
       "<Figure size 432x288 with 1 Axes>"
      ]
     },
     "metadata": {},
     "output_type": "display_data"
    }
   ],
   "source": [
    "inverzni_rang_rs = [1/r for r in range(1,len(jedinstvene_reci_rs)+1)]\n",
    "inverzni_rang_en = [1/r for r in range(1,len(jedinstvene_reci_en)+1)]\n",
    "\n",
    "frek_reci_en = 100*jedinstvene_reci_en['Broj_pojavljivanja_reci']/jedinstvene_reci_en['Broj_pojavljivanja_reci'].sum()\n",
    "frek_reci_rs = 100*jedinstvene_reci_rs['Broj_pojavljivanja_reci']/jedinstvene_reci_rs['Broj_pojavljivanja_reci'].sum()\n",
    "\n",
    "plt.plot(inverzni_rang_rs,frek_reci_rs,marker='o',color='#52BD9D',label = 'srpski jezik')\n",
    "plt.plot(inverzni_rang_en,frek_reci_en, marker='o',color='lightgrey',label = 'engleski jezik')\n",
    "plt.xlabel('Inverzni rang reči (1/r)')\n",
    "plt.ylabel('Frekvencija pojavljivanja reci [%]')\n",
    "plt.legend()\n",
    "plt.show()"
   ]
  },
  {
   "cell_type": "markdown",
   "metadata": {
    "scrolled": true
   },
   "source": [
    "Видимо да фреквенција расте са порастом $1/r$, али није јасно да је линеарна (можда само за речи нижег ранга, доњи леви угао). Може бити да је одсуство ове законитости последица кратких текстова које анализирамо (оба имају само по пар стотина речи). Погледајмо да ли је ова веза уочљивија у дужем тексту - књизи Ана Карењина."
   ]
  },
  {
   "cell_type": "markdown",
   "metadata": {},
   "source": [
    "Слично као и са текстовима о Петљи, и текст књиге Ана Карењина (на енглеском језику) смо учитали и припремили у посебној радној свесци (нађите је у фолдеру *data*) а овде ћемо само учитати листу речи као табелу да бисмо на овој знатно већој количини текста проверили да ли важи Зипфов закон."
   ]
  },
  {
   "cell_type": "code",
   "execution_count": 28,
   "metadata": {},
   "outputs": [
    {
     "data": {
      "text/html": [
       "<div>\n",
       "<style scoped>\n",
       "    .dataframe tbody tr th:only-of-type {\n",
       "        vertical-align: middle;\n",
       "    }\n",
       "\n",
       "    .dataframe tbody tr th {\n",
       "        vertical-align: top;\n",
       "    }\n",
       "\n",
       "    .dataframe thead th {\n",
       "        text-align: right;\n",
       "    }\n",
       "</style>\n",
       "<table border=\"1\" class=\"dataframe\">\n",
       "  <thead>\n",
       "    <tr style=\"text-align: right;\">\n",
       "      <th></th>\n",
       "      <th>Rec</th>\n",
       "    </tr>\n",
       "  </thead>\n",
       "  <tbody>\n",
       "    <tr>\n",
       "      <th>0</th>\n",
       "      <td>Happy</td>\n",
       "    </tr>\n",
       "    <tr>\n",
       "      <th>1</th>\n",
       "      <td>families</td>\n",
       "    </tr>\n",
       "  </tbody>\n",
       "</table>\n",
       "</div>"
      ],
      "text/plain": [
       "        Rec\n",
       "0     Happy\n",
       "1  families"
      ]
     },
     "execution_count": 28,
     "metadata": {},
     "output_type": "execute_result"
    }
   ],
   "source": [
    "Ana_df = pd.read_csv('data/tekst data/Ana_df.csv')\n",
    "Ana_df.head(2)"
   ]
  },
  {
   "cell_type": "code",
   "execution_count": 29,
   "metadata": {
    "scrolled": true
   },
   "outputs": [
    {
     "data": {
      "text/html": [
       "<div>\n",
       "<style scoped>\n",
       "    .dataframe tbody tr th:only-of-type {\n",
       "        vertical-align: middle;\n",
       "    }\n",
       "\n",
       "    .dataframe tbody tr th {\n",
       "        vertical-align: top;\n",
       "    }\n",
       "\n",
       "    .dataframe thead th {\n",
       "        text-align: right;\n",
       "    }\n",
       "</style>\n",
       "<table border=\"1\" class=\"dataframe\">\n",
       "  <thead>\n",
       "    <tr style=\"text-align: right;\">\n",
       "      <th></th>\n",
       "      <th>Rec</th>\n",
       "      <th>Rec_malim_slovima</th>\n",
       "    </tr>\n",
       "  </thead>\n",
       "  <tbody>\n",
       "    <tr>\n",
       "      <th>0</th>\n",
       "      <td>Happy</td>\n",
       "      <td>happy</td>\n",
       "    </tr>\n",
       "    <tr>\n",
       "      <th>1</th>\n",
       "      <td>families</td>\n",
       "      <td>families</td>\n",
       "    </tr>\n",
       "  </tbody>\n",
       "</table>\n",
       "</div>"
      ],
      "text/plain": [
       "        Rec Rec_malim_slovima\n",
       "0     Happy             happy\n",
       "1  families          families"
      ]
     },
     "execution_count": 29,
     "metadata": {},
     "output_type": "execute_result"
    }
   ],
   "source": [
    "Ana_df['Rec_malim_slovima'] = Ana_df['Rec'].apply(str.lower)\n",
    "Ana_df.head(2)"
   ]
  },
  {
   "cell_type": "markdown",
   "metadata": {},
   "source": [
    "Сада ћемо број понављања сваке од речи. Раније смо то радили користећи функцију **value_counts**, али да бисмо демонстрирали и друге начине овде ћемо то урадити груписањем по речима (**groupby**), а затим користећи функцију **size** ћемо добити величину сваке групе по истој речи. Ове две функције нам враћају практично исти исход, али је неретко начин који сад примењујемо бржи:"
   ]
  },
  {
   "cell_type": "code",
   "execution_count": 30,
   "metadata": {
    "scrolled": true
   },
   "outputs": [
    {
     "data": {
      "text/html": [
       "<div>\n",
       "<style scoped>\n",
       "    .dataframe tbody tr th:only-of-type {\n",
       "        vertical-align: middle;\n",
       "    }\n",
       "\n",
       "    .dataframe tbody tr th {\n",
       "        vertical-align: top;\n",
       "    }\n",
       "\n",
       "    .dataframe thead th {\n",
       "        text-align: right;\n",
       "    }\n",
       "</style>\n",
       "<table border=\"1\" class=\"dataframe\">\n",
       "  <thead>\n",
       "    <tr style=\"text-align: right;\">\n",
       "      <th></th>\n",
       "      <th>Broj_pojavljivanja</th>\n",
       "    </tr>\n",
       "    <tr>\n",
       "      <th>Rec_malim_slovima</th>\n",
       "      <th></th>\n",
       "    </tr>\n",
       "  </thead>\n",
       "  <tbody>\n",
       "    <tr>\n",
       "      <th>a</th>\n",
       "      <td>6163</td>\n",
       "    </tr>\n",
       "    <tr>\n",
       "      <th>abandon</th>\n",
       "      <td>6</td>\n",
       "    </tr>\n",
       "    <tr>\n",
       "      <th>abandoned</th>\n",
       "      <td>11</td>\n",
       "    </tr>\n",
       "    <tr>\n",
       "      <th>abandonment</th>\n",
       "      <td>1</td>\n",
       "    </tr>\n",
       "    <tr>\n",
       "      <th>abasement</th>\n",
       "      <td>1</td>\n",
       "    </tr>\n",
       "  </tbody>\n",
       "</table>\n",
       "</div>"
      ],
      "text/plain": [
       "                   Broj_pojavljivanja\n",
       "Rec_malim_slovima                    \n",
       "a                                6163\n",
       "abandon                             6\n",
       "abandoned                          11\n",
       "abandonment                         1\n",
       "abasement                           1"
      ]
     },
     "execution_count": 30,
     "metadata": {},
     "output_type": "execute_result"
    }
   ],
   "source": [
    "Ana_jedinstvene_reci = pd.DataFrame(Ana_df.groupby('Rec_malim_slovima').size())\n",
    "Ana_jedinstvene_reci = Ana_jedinstvene_reci.rename(columns={0:'Broj_pojavljivanja'})\n",
    "Ana_jedinstvene_reci.head()"
   ]
  },
  {
   "cell_type": "markdown",
   "metadata": {},
   "source": [
    "Сортирајмо ову табелу и погледајмо првих 10 најфреквентнијих речи:"
   ]
  },
  {
   "cell_type": "code",
   "execution_count": 31,
   "metadata": {},
   "outputs": [
    {
     "data": {
      "text/html": [
       "<div>\n",
       "<style scoped>\n",
       "    .dataframe tbody tr th:only-of-type {\n",
       "        vertical-align: middle;\n",
       "    }\n",
       "\n",
       "    .dataframe tbody tr th {\n",
       "        vertical-align: top;\n",
       "    }\n",
       "\n",
       "    .dataframe thead th {\n",
       "        text-align: right;\n",
       "    }\n",
       "</style>\n",
       "<table border=\"1\" class=\"dataframe\">\n",
       "  <thead>\n",
       "    <tr style=\"text-align: right;\">\n",
       "      <th></th>\n",
       "      <th>Broj_pojavljivanja</th>\n",
       "    </tr>\n",
       "    <tr>\n",
       "      <th>Rec_malim_slovima</th>\n",
       "      <th></th>\n",
       "    </tr>\n",
       "  </thead>\n",
       "  <tbody>\n",
       "    <tr>\n",
       "      <th>the</th>\n",
       "      <td>17557</td>\n",
       "    </tr>\n",
       "    <tr>\n",
       "      <th>and</th>\n",
       "      <td>12906</td>\n",
       "    </tr>\n",
       "    <tr>\n",
       "      <th>to</th>\n",
       "      <td>10154</td>\n",
       "    </tr>\n",
       "    <tr>\n",
       "      <th>of</th>\n",
       "      <td>8618</td>\n",
       "    </tr>\n",
       "    <tr>\n",
       "      <th>he</th>\n",
       "      <td>7836</td>\n",
       "    </tr>\n",
       "    <tr>\n",
       "      <th>a</th>\n",
       "      <td>6163</td>\n",
       "    </tr>\n",
       "    <tr>\n",
       "      <th>in</th>\n",
       "      <td>6020</td>\n",
       "    </tr>\n",
       "    <tr>\n",
       "      <th>that</th>\n",
       "      <td>5546</td>\n",
       "    </tr>\n",
       "    <tr>\n",
       "      <th>was</th>\n",
       "      <td>5308</td>\n",
       "    </tr>\n",
       "    <tr>\n",
       "      <th>his</th>\n",
       "      <td>5240</td>\n",
       "    </tr>\n",
       "  </tbody>\n",
       "</table>\n",
       "</div>"
      ],
      "text/plain": [
       "                   Broj_pojavljivanja\n",
       "Rec_malim_slovima                    \n",
       "the                             17557\n",
       "and                             12906\n",
       "to                              10154\n",
       "of                               8618\n",
       "he                               7836\n",
       "a                                6163\n",
       "in                               6020\n",
       "that                             5546\n",
       "was                              5308\n",
       "his                              5240"
      ]
     },
     "execution_count": 31,
     "metadata": {},
     "output_type": "execute_result"
    }
   ],
   "source": [
    "Ana_jedinstvene_reci = Ana_jedinstvene_reci.sort_values(by='Broj_pojavljivanja',ascending=False)\n",
    "Ana_jedinstvene_reci[:10]"
   ]
  },
  {
   "cell_type": "markdown",
   "metadata": {},
   "source": [
    "Као што смо претходно поменули, Зипфов закон предвиђа да је фреквенција речи у тексту обрнуто пропорционална рангу речи. Овде ћемо проверити тај закон на тексту књиге Ана Карењина, али ћемо пробати да проверимо закон претпостављајући следећу функционалну зависност $f(r)\\propto r^\\alpha$ и проверавајући да ли је $\\alpha=-1$.\n",
    "За почетак ћемо у табелу *Ana_jedinstvene_reci* додати колону ранг речи и нормирану фреквенцу (подељену са укупним бројем речи)."
   ]
  },
  {
   "cell_type": "code",
   "execution_count": 32,
   "metadata": {},
   "outputs": [
    {
     "data": {
      "text/html": [
       "<div>\n",
       "<style scoped>\n",
       "    .dataframe tbody tr th:only-of-type {\n",
       "        vertical-align: middle;\n",
       "    }\n",
       "\n",
       "    .dataframe tbody tr th {\n",
       "        vertical-align: top;\n",
       "    }\n",
       "\n",
       "    .dataframe thead th {\n",
       "        text-align: right;\n",
       "    }\n",
       "</style>\n",
       "<table border=\"1\" class=\"dataframe\">\n",
       "  <thead>\n",
       "    <tr style=\"text-align: right;\">\n",
       "      <th></th>\n",
       "      <th>Broj_pojavljivanja</th>\n",
       "      <th>Frekcencija</th>\n",
       "      <th>Rang</th>\n",
       "    </tr>\n",
       "    <tr>\n",
       "      <th>Rec_malim_slovima</th>\n",
       "      <th></th>\n",
       "      <th></th>\n",
       "      <th></th>\n",
       "    </tr>\n",
       "  </thead>\n",
       "  <tbody>\n",
       "    <tr>\n",
       "      <th>the</th>\n",
       "      <td>17557</td>\n",
       "      <td>0.049040</td>\n",
       "      <td>1</td>\n",
       "    </tr>\n",
       "    <tr>\n",
       "      <th>and</th>\n",
       "      <td>12906</td>\n",
       "      <td>0.036049</td>\n",
       "      <td>2</td>\n",
       "    </tr>\n",
       "  </tbody>\n",
       "</table>\n",
       "</div>"
      ],
      "text/plain": [
       "                   Broj_pojavljivanja  Frekcencija  Rang\n",
       "Rec_malim_slovima                                       \n",
       "the                             17557     0.049040     1\n",
       "and                             12906     0.036049     2"
      ]
     },
     "execution_count": 32,
     "metadata": {},
     "output_type": "execute_result"
    }
   ],
   "source": [
    "total = sum(Ana_jedinstvene_reci['Broj_pojavljivanja'])\n",
    "Ana_jedinstvene_reci['Frekcencija'] = Ana_jedinstvene_reci['Broj_pojavljivanja']/total\n",
    "Ana_jedinstvene_reci['Rang'] = [i for i in range(1,len(Ana_jedinstvene_reci)+1,1)]\n",
    "Ana_jedinstvene_reci.head(2)"
   ]
  },
  {
   "cell_type": "markdown",
   "metadata": {},
   "source": [
    "Хајде сада да нацртамо на графику све речи користећи њихов ранг као х координату а фреквенцију као у координату:"
   ]
  },
  {
   "cell_type": "code",
   "execution_count": 33,
   "metadata": {},
   "outputs": [
    {
     "data": {
      "image/png": "[encoded data removed]",
      "text/plain": [
       "<Figure size 432x288 with 1 Axes>"
      ]
     },
     "metadata": {},
     "output_type": "display_data"
    }
   ],
   "source": [
    "plt.plot(Ana_jedinstvene_reci['Rang'],100*Ana_jedinstvene_reci['Frekcencija'], marker = 'o',color='coral')\n",
    "plt.xlabel('Rang reči')\n",
    "plt.ylabel('Frekvencija reči [%]')\n",
    "#plt.xlim([0,100])\n",
    "plt.show()"
   ]
  },
  {
   "cell_type": "markdown",
   "metadata": {},
   "source": [
    "Иако са ове слике видимо да фреквенција јако брзо опада са порастом ранга, није лако проверити да ли је у питању степена зависност и ако јесте која (користећи линију кода која је у коментару, можете ограничити опсег х-осе и проверити колико брзо фреквенца речи падне на вредност јако блиску нули). Стога се за проверу оваквих - степених - зависности ( $f(r)\\propto r^\\alpha$)) најчешће користи логаритамска функција. \n",
    "\n",
    "*Подсетник*: Логаритам је функција која нам даје одговор ако се питамо на који степен треба подићи ранг да би се добила фреквенција речи у тексту. Или на пример $\\log_5(625)$ нам даје одговор на питање на који је степен потребно подићи $5$ да би се добило $625$. Одговор је 4 зато што је $5^4=625$. Из ове практичне дефиниције логаритамске функције следе различите особине због којих је згодна за коришћење, нама тренутно значајна: $\\log_{baza}(a^c)=c\\log_{baza}(a)$. Последње правило важи за логаритам са било којом основом, али ћемо ми најчешће за основу користити е (тај, природни логаритам се онда често означава и са $\\ln$) и означаваћемо га само са $\\log$ пошто је под тим називом имплементирана и функција **log** у *numpy* библиотеци.\n",
    "\n",
    "Управо је последња особина логаритамске функције оно што нам може помоћи у емпиријском испитивању степене зависности Зипфовог закона. Ако важи наша предпставка да је $f=r^\\alpha$ онда логаритмовање обе стране ове једнакости води до: $\\log(f) = \\alpha \\log(r)$. Сада ако наше податке представимо на графику тако што уместо ранга и фреквенције на х и у оси буду логаритми тих вредности $(\\log(r),\\log(f))$ међу тачкама очекујемо линеарну зависност, односно праву линију:"
   ]
  },
  {
   "cell_type": "code",
   "execution_count": 34,
   "metadata": {},
   "outputs": [
    {
     "data": {
      "image/png": "[encoded data removed]",
      "text/plain": [
       "<Figure size 432x288 with 1 Axes>"
      ]
     },
     "metadata": {},
     "output_type": "display_data"
    }
   ],
   "source": [
    "plt.plot(np.log(Ana_jedinstvene_reci['Rang']),np.log(Ana_jedinstvene_reci['Frekcencija']), 'o',color='coral')\n",
    "plt.xlabel('Log(rang reči)')\n",
    "plt.ylabel('Log(frekvencija reči)')\n",
    "plt.show()"
   ]
  },
  {
   "cell_type": "markdown",
   "metadata": {},
   "source": [
    "Овај график приказује зависност која не делује у потпуности као права линија, али потребно је да направимо оцену линеарности ових података која није одокативна. Да то урадимо, *фитоваћемо* ове податке правом линијом, односно, наћи ћемо најбољу линију која одговара овим подацима.\n",
    "То ћемо урадити користећи функцијз **polyfit** у оквиру *numpy*. Ова функција испробава различите праве линије $y = \\alpha*x +\\beta$ мењајући коефицијент правца $\\alpha$ и дужину одсечка $\\beta$ и враћа нам комбинацију коефицијената која најбоље описује податке. *Најбољи опис података* значи да је удаљеност између у-координате података и вредности која лежи на пронађеној правој линији најмања."
   ]
  },
  {
   "cell_type": "code",
   "execution_count": 35,
   "metadata": {
    "scrolled": false
   },
   "outputs": [
    {
     "data": {
      "image/png": "[encoded data removed]",
      "text/plain": [
       "<Figure size 432x288 with 1 Axes>"
      ]
     },
     "metadata": {},
     "output_type": "display_data"
    }
   ],
   "source": [
    "x = np.log(Ana_jedinstvene_reci['Rang'])\n",
    "y = np.log(Ana_jedinstvene_reci['Frekcencija'])\n",
    "\n",
    "plt.plot(x,y,'o',color='coral')#исти график као претходни\n",
    "alpha,beta = np.polyfit(x,y,1)\n",
    "plt.plot(x,x*alpha+beta,'dimgrey')\n",
    "\n",
    "plt.xlabel('Log(r)')\n",
    "plt.ylabel('Log(f)')\n",
    "\n",
    "plt.show()"
   ]
  },
  {
   "cell_type": "markdown",
   "metadata": {},
   "source": [
    "Видимо да један део података прати праву линију (мање фреквентне речи), али не можемо да кажемо да за целу књигу, тј. све речи у њој, важи степена зависност између фреквенције речи и ранга. Али хајде да видимо који степен смо на овај начин нашли, тј. на који степен треба подићи ранг да бисмо добили приближну вредност фреквенције:"
   ]
  },
  {
   "cell_type": "code",
   "execution_count": 36,
   "metadata": {},
   "outputs": [
    {
     "data": {
      "text/plain": [
       "-1.4101291190461713"
      ]
     },
     "execution_count": 36,
     "metadata": {},
     "output_type": "execute_result"
    }
   ],
   "source": [
    "alpha"
   ]
  },
  {
   "cell_type": "markdown",
   "metadata": {},
   "source": [
    "Иако речи у књизи Ана Карењина не прате у потпуности Зипфов закон, свакако смо приметили да је мали број речи изузетно попуаран (скоро 5% књиге написано је уз помоћ само једне, најпопуларније речи, члана *the*!). Хајде да искористимо ово запажање и да у наставку потражимо најпопуларније речи уз помоћ којих је написано 50% књиге."
   ]
  },
  {
   "cell_type": "markdown",
   "metadata": {},
   "source": [
    "Додаћемо још једну колону у којој ће бити садржане кумулативне фреквенције, односно крећући се кроз ранг листу речи од најпопуларније на даље, ова колона даће нам за реч у реду *r* који проценат књиге написан је са првих *r* рангираних речи. То моћемо урадити користећи функцију **cumsum**:"
   ]
  },
  {
   "cell_type": "code",
   "execution_count": 37,
   "metadata": {},
   "outputs": [],
   "source": [
    "Ana_jedinstvene_reci['Kumulativne frekvencije'] = 100*np.cumsum(Ana_jedinstvene_reci['Frekcencija'])"
   ]
  },
  {
   "cell_type": "markdown",
   "metadata": {},
   "source": [
    "Последња вредност у овој колони је, наравно, 100% (проверите). Хајде да нацртамо ову колону и да видимо отприлике колико нам речи треба за 50% књиге:"
   ]
  },
  {
   "cell_type": "code",
   "execution_count": 38,
   "metadata": {},
   "outputs": [
    {
     "data": {
      "image/png": "[encoded data removed]",
      "text/plain": [
       "<Figure size 432x288 with 1 Axes>"
      ]
     },
     "metadata": {},
     "output_type": "display_data"
    }
   ],
   "source": [
    "plt.plot(Ana_jedinstvene_reci['Rang'],Ana_jedinstvene_reci['Kumulativne frekvencije'], marker = 'o',color='coral')\n",
    "plt.xlabel('Rang reči r')\n",
    "plt.ylabel('Procenat knjige napisan sa prvih r reči [%]')\n",
    "plt.axhline(y=50,color='dimgrey')\n",
    "plt.show()"
   ]
  },
  {
   "cell_type": "markdown",
   "metadata": {},
   "source": [
    "Са овог графика делује да је врло мало речи потребно за 50% укупног садржаја. Селектоваћемо сада из табеле колико је то тачно речи и које су оне:"
   ]
  },
  {
   "cell_type": "code",
   "execution_count": 39,
   "metadata": {},
   "outputs": [
    {
     "data": {
      "text/html": [
       "<div>\n",
       "<style scoped>\n",
       "    .dataframe tbody tr th:only-of-type {\n",
       "        vertical-align: middle;\n",
       "    }\n",
       "\n",
       "    .dataframe tbody tr th {\n",
       "        vertical-align: top;\n",
       "    }\n",
       "\n",
       "    .dataframe thead th {\n",
       "        text-align: right;\n",
       "    }\n",
       "</style>\n",
       "<table border=\"1\" class=\"dataframe\">\n",
       "  <thead>\n",
       "    <tr style=\"text-align: right;\">\n",
       "      <th></th>\n",
       "      <th>Broj_pojavljivanja</th>\n",
       "      <th>Frekcencija</th>\n",
       "      <th>Rang</th>\n",
       "      <th>Kumulativne frekvencije</th>\n",
       "    </tr>\n",
       "    <tr>\n",
       "      <th>Rec_malim_slovima</th>\n",
       "      <th></th>\n",
       "      <th></th>\n",
       "      <th></th>\n",
       "      <th></th>\n",
       "    </tr>\n",
       "  </thead>\n",
       "  <tbody>\n",
       "    <tr>\n",
       "      <th>the</th>\n",
       "      <td>17557</td>\n",
       "      <td>0.049040</td>\n",
       "      <td>1</td>\n",
       "      <td>4.904026</td>\n",
       "    </tr>\n",
       "    <tr>\n",
       "      <th>and</th>\n",
       "      <td>12906</td>\n",
       "      <td>0.036049</td>\n",
       "      <td>2</td>\n",
       "      <td>8.508933</td>\n",
       "    </tr>\n",
       "    <tr>\n",
       "      <th>to</th>\n",
       "      <td>10154</td>\n",
       "      <td>0.028362</td>\n",
       "      <td>3</td>\n",
       "      <td>11.345150</td>\n",
       "    </tr>\n",
       "    <tr>\n",
       "      <th>of</th>\n",
       "      <td>8618</td>\n",
       "      <td>0.024072</td>\n",
       "      <td>4</td>\n",
       "      <td>13.752332</td>\n",
       "    </tr>\n",
       "    <tr>\n",
       "      <th>he</th>\n",
       "      <td>7836</td>\n",
       "      <td>0.021888</td>\n",
       "      <td>5</td>\n",
       "      <td>15.941086</td>\n",
       "    </tr>\n",
       "    <tr>\n",
       "      <th>a</th>\n",
       "      <td>6163</td>\n",
       "      <td>0.017215</td>\n",
       "      <td>6</td>\n",
       "      <td>17.662536</td>\n",
       "    </tr>\n",
       "    <tr>\n",
       "      <th>in</th>\n",
       "      <td>6020</td>\n",
       "      <td>0.016815</td>\n",
       "      <td>7</td>\n",
       "      <td>19.344044</td>\n",
       "    </tr>\n",
       "    <tr>\n",
       "      <th>that</th>\n",
       "      <td>5546</td>\n",
       "      <td>0.015491</td>\n",
       "      <td>8</td>\n",
       "      <td>20.893154</td>\n",
       "    </tr>\n",
       "    <tr>\n",
       "      <th>was</th>\n",
       "      <td>5308</td>\n",
       "      <td>0.014826</td>\n",
       "      <td>9</td>\n",
       "      <td>22.375786</td>\n",
       "    </tr>\n",
       "    <tr>\n",
       "      <th>his</th>\n",
       "      <td>5240</td>\n",
       "      <td>0.014636</td>\n",
       "      <td>10</td>\n",
       "      <td>23.839424</td>\n",
       "    </tr>\n",
       "    <tr>\n",
       "      <th>her</th>\n",
       "      <td>5089</td>\n",
       "      <td>0.014215</td>\n",
       "      <td>11</td>\n",
       "      <td>25.260885</td>\n",
       "    </tr>\n",
       "    <tr>\n",
       "      <th>it</th>\n",
       "      <td>4561</td>\n",
       "      <td>0.012740</td>\n",
       "      <td>12</td>\n",
       "      <td>26.534865</td>\n",
       "    </tr>\n",
       "    <tr>\n",
       "      <th>i</th>\n",
       "      <td>4483</td>\n",
       "      <td>0.012522</td>\n",
       "      <td>13</td>\n",
       "      <td>27.787057</td>\n",
       "    </tr>\n",
       "    <tr>\n",
       "      <th>she</th>\n",
       "      <td>4405</td>\n",
       "      <td>0.012304</td>\n",
       "      <td>14</td>\n",
       "      <td>29.017463</td>\n",
       "    </tr>\n",
       "    <tr>\n",
       "      <th>had</th>\n",
       "      <td>3857</td>\n",
       "      <td>0.010773</td>\n",
       "      <td>15</td>\n",
       "      <td>30.094801</td>\n",
       "    </tr>\n",
       "    <tr>\n",
       "      <th>with</th>\n",
       "      <td>3751</td>\n",
       "      <td>0.010477</td>\n",
       "      <td>16</td>\n",
       "      <td>31.142532</td>\n",
       "    </tr>\n",
       "    <tr>\n",
       "      <th>not</th>\n",
       "      <td>3434</td>\n",
       "      <td>0.009592</td>\n",
       "      <td>17</td>\n",
       "      <td>32.101717</td>\n",
       "    </tr>\n",
       "    <tr>\n",
       "      <th>s</th>\n",
       "      <td>3408</td>\n",
       "      <td>0.009519</td>\n",
       "      <td>18</td>\n",
       "      <td>33.053641</td>\n",
       "    </tr>\n",
       "    <tr>\n",
       "      <th>you</th>\n",
       "      <td>3356</td>\n",
       "      <td>0.009374</td>\n",
       "      <td>19</td>\n",
       "      <td>33.991039</td>\n",
       "    </tr>\n",
       "    <tr>\n",
       "      <th>him</th>\n",
       "      <td>3162</td>\n",
       "      <td>0.008832</td>\n",
       "      <td>20</td>\n",
       "      <td>34.874250</td>\n",
       "    </tr>\n",
       "    <tr>\n",
       "      <th>but</th>\n",
       "      <td>3162</td>\n",
       "      <td>0.008832</td>\n",
       "      <td>21</td>\n",
       "      <td>35.757461</td>\n",
       "    </tr>\n",
       "    <tr>\n",
       "      <th>at</th>\n",
       "      <td>2920</td>\n",
       "      <td>0.008156</td>\n",
       "      <td>22</td>\n",
       "      <td>36.573076</td>\n",
       "    </tr>\n",
       "    <tr>\n",
       "      <th>said</th>\n",
       "      <td>2730</td>\n",
       "      <td>0.007625</td>\n",
       "      <td>23</td>\n",
       "      <td>37.335620</td>\n",
       "    </tr>\n",
       "    <tr>\n",
       "      <th>for</th>\n",
       "      <td>2714</td>\n",
       "      <td>0.007581</td>\n",
       "      <td>24</td>\n",
       "      <td>38.093695</td>\n",
       "    </tr>\n",
       "    <tr>\n",
       "      <th>as</th>\n",
       "      <td>2442</td>\n",
       "      <td>0.006821</td>\n",
       "      <td>25</td>\n",
       "      <td>38.775795</td>\n",
       "    </tr>\n",
       "    <tr>\n",
       "      <th>on</th>\n",
       "      <td>2201</td>\n",
       "      <td>0.006148</td>\n",
       "      <td>26</td>\n",
       "      <td>39.390579</td>\n",
       "    </tr>\n",
       "    <tr>\n",
       "      <th>all</th>\n",
       "      <td>1951</td>\n",
       "      <td>0.005450</td>\n",
       "      <td>27</td>\n",
       "      <td>39.935533</td>\n",
       "    </tr>\n",
       "    <tr>\n",
       "      <th>what</th>\n",
       "      <td>1793</td>\n",
       "      <td>0.005008</td>\n",
       "      <td>28</td>\n",
       "      <td>40.436354</td>\n",
       "    </tr>\n",
       "    <tr>\n",
       "      <th>be</th>\n",
       "      <td>1778</td>\n",
       "      <td>0.004966</td>\n",
       "      <td>29</td>\n",
       "      <td>40.932985</td>\n",
       "    </tr>\n",
       "    <tr>\n",
       "      <th>levin</th>\n",
       "      <td>1616</td>\n",
       "      <td>0.004514</td>\n",
       "      <td>30</td>\n",
       "      <td>41.384367</td>\n",
       "    </tr>\n",
       "    <tr>\n",
       "      <th>so</th>\n",
       "      <td>1550</td>\n",
       "      <td>0.004329</td>\n",
       "      <td>31</td>\n",
       "      <td>41.817313</td>\n",
       "    </tr>\n",
       "    <tr>\n",
       "      <th>is</th>\n",
       "      <td>1426</td>\n",
       "      <td>0.003983</td>\n",
       "      <td>32</td>\n",
       "      <td>42.215624</td>\n",
       "    </tr>\n",
       "    <tr>\n",
       "      <th>t</th>\n",
       "      <td>1416</td>\n",
       "      <td>0.003955</td>\n",
       "      <td>33</td>\n",
       "      <td>42.611142</td>\n",
       "    </tr>\n",
       "    <tr>\n",
       "      <th>this</th>\n",
       "      <td>1364</td>\n",
       "      <td>0.003810</td>\n",
       "      <td>34</td>\n",
       "      <td>42.992134</td>\n",
       "    </tr>\n",
       "    <tr>\n",
       "      <th>up</th>\n",
       "      <td>1333</td>\n",
       "      <td>0.003723</td>\n",
       "      <td>35</td>\n",
       "      <td>43.364468</td>\n",
       "    </tr>\n",
       "    <tr>\n",
       "      <th>from</th>\n",
       "      <td>1307</td>\n",
       "      <td>0.003651</td>\n",
       "      <td>36</td>\n",
       "      <td>43.729540</td>\n",
       "    </tr>\n",
       "    <tr>\n",
       "      <th>have</th>\n",
       "      <td>1272</td>\n",
       "      <td>0.003553</td>\n",
       "      <td>37</td>\n",
       "      <td>44.084835</td>\n",
       "    </tr>\n",
       "    <tr>\n",
       "      <th>they</th>\n",
       "      <td>1239</td>\n",
       "      <td>0.003461</td>\n",
       "      <td>38</td>\n",
       "      <td>44.430913</td>\n",
       "    </tr>\n",
       "    <tr>\n",
       "      <th>were</th>\n",
       "      <td>1235</td>\n",
       "      <td>0.003450</td>\n",
       "      <td>39</td>\n",
       "      <td>44.775873</td>\n",
       "    </tr>\n",
       "    <tr>\n",
       "      <th>one</th>\n",
       "      <td>1229</td>\n",
       "      <td>0.003433</td>\n",
       "      <td>40</td>\n",
       "      <td>45.119158</td>\n",
       "    </tr>\n",
       "    <tr>\n",
       "      <th>there</th>\n",
       "      <td>1204</td>\n",
       "      <td>0.003363</td>\n",
       "      <td>41</td>\n",
       "      <td>45.455460</td>\n",
       "    </tr>\n",
       "    <tr>\n",
       "      <th>no</th>\n",
       "      <td>1145</td>\n",
       "      <td>0.003198</td>\n",
       "      <td>42</td>\n",
       "      <td>45.775281</td>\n",
       "    </tr>\n",
       "    <tr>\n",
       "      <th>me</th>\n",
       "      <td>1134</td>\n",
       "      <td>0.003167</td>\n",
       "      <td>43</td>\n",
       "      <td>46.092030</td>\n",
       "    </tr>\n",
       "    <tr>\n",
       "      <th>by</th>\n",
       "      <td>1086</td>\n",
       "      <td>0.003033</td>\n",
       "      <td>44</td>\n",
       "      <td>46.395372</td>\n",
       "    </tr>\n",
       "    <tr>\n",
       "      <th>which</th>\n",
       "      <td>1077</td>\n",
       "      <td>0.003008</td>\n",
       "      <td>45</td>\n",
       "      <td>46.696200</td>\n",
       "    </tr>\n",
       "    <tr>\n",
       "      <th>been</th>\n",
       "      <td>1062</td>\n",
       "      <td>0.002966</td>\n",
       "      <td>46</td>\n",
       "      <td>46.992838</td>\n",
       "    </tr>\n",
       "    <tr>\n",
       "      <th>would</th>\n",
       "      <td>1048</td>\n",
       "      <td>0.002927</td>\n",
       "      <td>47</td>\n",
       "      <td>47.285566</td>\n",
       "    </tr>\n",
       "    <tr>\n",
       "      <th>out</th>\n",
       "      <td>1032</td>\n",
       "      <td>0.002883</td>\n",
       "      <td>48</td>\n",
       "      <td>47.573824</td>\n",
       "    </tr>\n",
       "    <tr>\n",
       "      <th>could</th>\n",
       "      <td>971</td>\n",
       "      <td>0.002712</td>\n",
       "      <td>49</td>\n",
       "      <td>47.845044</td>\n",
       "    </tr>\n",
       "    <tr>\n",
       "      <th>when</th>\n",
       "      <td>951</td>\n",
       "      <td>0.002656</td>\n",
       "      <td>50</td>\n",
       "      <td>48.110678</td>\n",
       "    </tr>\n",
       "    <tr>\n",
       "      <th>did</th>\n",
       "      <td>938</td>\n",
       "      <td>0.002620</td>\n",
       "      <td>51</td>\n",
       "      <td>48.372680</td>\n",
       "    </tr>\n",
       "    <tr>\n",
       "      <th>now</th>\n",
       "      <td>873</td>\n",
       "      <td>0.002438</td>\n",
       "      <td>52</td>\n",
       "      <td>48.616527</td>\n",
       "    </tr>\n",
       "    <tr>\n",
       "      <th>vronsky</th>\n",
       "      <td>862</td>\n",
       "      <td>0.002408</td>\n",
       "      <td>53</td>\n",
       "      <td>48.857301</td>\n",
       "    </tr>\n",
       "    <tr>\n",
       "      <th>them</th>\n",
       "      <td>841</td>\n",
       "      <td>0.002349</td>\n",
       "      <td>54</td>\n",
       "      <td>49.092209</td>\n",
       "    </tr>\n",
       "    <tr>\n",
       "      <th>do</th>\n",
       "      <td>828</td>\n",
       "      <td>0.002313</td>\n",
       "      <td>55</td>\n",
       "      <td>49.323486</td>\n",
       "    </tr>\n",
       "    <tr>\n",
       "      <th>anna</th>\n",
       "      <td>822</td>\n",
       "      <td>0.002296</td>\n",
       "      <td>56</td>\n",
       "      <td>49.553088</td>\n",
       "    </tr>\n",
       "    <tr>\n",
       "      <th>who</th>\n",
       "      <td>818</td>\n",
       "      <td>0.002285</td>\n",
       "      <td>57</td>\n",
       "      <td>49.781572</td>\n",
       "    </tr>\n",
       "  </tbody>\n",
       "</table>\n",
       "</div>"
      ],
      "text/plain": [
       "                   Broj_pojavljivanja  Frekcencija  Rang  \\\n",
       "Rec_malim_slovima                                          \n",
       "the                             17557     0.049040     1   \n",
       "and                             12906     0.036049     2   \n",
       "to                              10154     0.028362     3   \n",
       "of                               8618     0.024072     4   \n",
       "he                               7836     0.021888     5   \n",
       "a                                6163     0.017215     6   \n",
       "in                               6020     0.016815     7   \n",
       "that                             5546     0.015491     8   \n",
       "was                              5308     0.014826     9   \n",
       "his                              5240     0.014636    10   \n",
       "her                              5089     0.014215    11   \n",
       "it                               4561     0.012740    12   \n",
       "i                                4483     0.012522    13   \n",
       "she                              4405     0.012304    14   \n",
       "had                              3857     0.010773    15   \n",
       "with                             3751     0.010477    16   \n",
       "not                              3434     0.009592    17   \n",
       "s                                3408     0.009519    18   \n",
       "you                              3356     0.009374    19   \n",
       "him                              3162     0.008832    20   \n",
       "but                              3162     0.008832    21   \n",
       "at                               2920     0.008156    22   \n",
       "said                             2730     0.007625    23   \n",
       "for                              2714     0.007581    24   \n",
       "as                               2442     0.006821    25   \n",
       "on                               2201     0.006148    26   \n",
       "all                              1951     0.005450    27   \n",
       "what                             1793     0.005008    28   \n",
       "be                               1778     0.004966    29   \n",
       "levin                            1616     0.004514    30   \n",
       "so                               1550     0.004329    31   \n",
       "is                               1426     0.003983    32   \n",
       "t                                1416     0.003955    33   \n",
       "this                             1364     0.003810    34   \n",
       "up                               1333     0.003723    35   \n",
       "from                             1307     0.003651    36   \n",
       "have                             1272     0.003553    37   \n",
       "they                             1239     0.003461    38   \n",
       "were                             1235     0.003450    39   \n",
       "one                              1229     0.003433    40   \n",
       "there                            1204     0.003363    41   \n",
       "no                               1145     0.003198    42   \n",
       "me                               1134     0.003167    43   \n",
       "by                               1086     0.003033    44   \n",
       "which                            1077     0.003008    45   \n",
       "been                             1062     0.002966    46   \n",
       "would                            1048     0.002927    47   \n",
       "out                              1032     0.002883    48   \n",
       "could                             971     0.002712    49   \n",
       "when                              951     0.002656    50   \n",
       "did                               938     0.002620    51   \n",
       "now                               873     0.002438    52   \n",
       "vronsky                           862     0.002408    53   \n",
       "them                              841     0.002349    54   \n",
       "do                                828     0.002313    55   \n",
       "anna                              822     0.002296    56   \n",
       "who                               818     0.002285    57   \n",
       "\n",
       "                   Kumulativne frekvencije  \n",
       "Rec_malim_slovima                           \n",
       "the                               4.904026  \n",
       "and                               8.508933  \n",
       "to                               11.345150  \n",
       "of                               13.752332  \n",
       "he                               15.941086  \n",
       "a                                17.662536  \n",
       "in                               19.344044  \n",
       "that                             20.893154  \n",
       "was                              22.375786  \n",
       "his                              23.839424  \n",
       "her                              25.260885  \n",
       "it                               26.534865  \n",
       "i                                27.787057  \n",
       "she                              29.017463  \n",
       "had                              30.094801  \n",
       "with                             31.142532  \n",
       "not                              32.101717  \n",
       "s                                33.053641  \n",
       "you                              33.991039  \n",
       "him                              34.874250  \n",
       "but                              35.757461  \n",
       "at                               36.573076  \n",
       "said                             37.335620  \n",
       "for                              38.093695  \n",
       "as                               38.775795  \n",
       "on                               39.390579  \n",
       "all                              39.935533  \n",
       "what                             40.436354  \n",
       "be                               40.932985  \n",
       "levin                            41.384367  \n",
       "so                               41.817313  \n",
       "is                               42.215624  \n",
       "t                                42.611142  \n",
       "this                             42.992134  \n",
       "up                               43.364468  \n",
       "from                             43.729540  \n",
       "have                             44.084835  \n",
       "they                             44.430913  \n",
       "were                             44.775873  \n",
       "one                              45.119158  \n",
       "there                            45.455460  \n",
       "no                               45.775281  \n",
       "me                               46.092030  \n",
       "by                               46.395372  \n",
       "which                            46.696200  \n",
       "been                             46.992838  \n",
       "would                            47.285566  \n",
       "out                              47.573824  \n",
       "could                            47.845044  \n",
       "when                             48.110678  \n",
       "did                              48.372680  \n",
       "now                              48.616527  \n",
       "vronsky                          48.857301  \n",
       "them                             49.092209  \n",
       "do                               49.323486  \n",
       "anna                             49.553088  \n",
       "who                              49.781572  "
      ]
     },
     "execution_count": 39,
     "metadata": {},
     "output_type": "execute_result"
    }
   ],
   "source": [
    "Ana_jedinstvene_reci[Ana_jedinstvene_reci['Kumulativne frekvencije']<=50]"
   ]
  },
  {
   "cell_type": "markdown",
   "metadata": {},
   "source": [
    "Са 57 најфреквентнијих речи можемо написати скоро 50% укупних речи које чине књигу Ана Карењина. Хајде да у листу додамо и 58-у реч тако да пређемо ову границу од 50% и хајде да видимо све ове речи заједно:"
   ]
  },
  {
   "cell_type": "code",
   "execution_count": 40,
   "metadata": {},
   "outputs": [],
   "source": [
    "polovina_knjige = Ana_jedinstvene_reci[Ana_jedinstvene_reci['Rang']<=58].index"
   ]
  },
  {
   "cell_type": "code",
   "execution_count": 41,
   "metadata": {
    "scrolled": true
   },
   "outputs": [
    {
     "data": {
      "text/plain": [
       "'the and to of he a in that was his her it i she had with not s you him but at said for as on all what be levin so is t this up from have they were one there no me by which been would out could when did now vronsky them do anna who how'"
      ]
     },
     "execution_count": 41,
     "metadata": {},
     "output_type": "execute_result"
    }
   ],
   "source": [
    "razmak.join(polovina_knjige)"
   ]
  },
  {
   "cell_type": "markdown",
   "metadata": {},
   "source": [
    "*Пробајте да конструишете најдужу смислену реченицу користећи речи са ове листе.*"
   ]
  },
  {
   "cell_type": "markdown",
   "metadata": {},
   "source": [
    "50% књиге из осам делова и преко 200 поглавља можемо написати са само 58 речи!\n",
    "Елиминишући популарне речи, видимо да се међу пар десетина најфреквентнијих речи у тексту налазе и имена три главна јунака (Љевин, Вронски и Ана, енг. Levin, Vronsky, Anna)!\n",
    "\n",
    "У овој радној свесци користили смо приступ фреквенционе анализе, који се упркос својој једноставности показао веома успешно у детектовању главних јунака, кључних речи у кратком тексту и слично. Међутим, до сада коришћени метод је различите граматичке облике исте речи сматрао различитим речима. Постоје нечини да се ово превазиђе, потражите на пример нешто више о процедурама *stemming/lemmatization* (нису једнако добре за све језике али могу помоћи да се ови проблеми мало ублаже).\n",
    "\n",
    "У ери алгоритама пре машинског учења, велики број метода за детекцију емоција у тексту, екстракцију кључних речи и слично, били су базирани управо на неким сличним идејама које смо у овој свесци обрађивали. Једна велика ствар коју овакве анализе занемарују је контекст у коме су дате речи искоришћене. Ми смо само бројали појављивања речи занемарујући њихову позицију у тексту и/ли међусовне односе, овај приступ се зато често назива 'bag of words' приступ и иако нам је помогао да издвојимо главне јунаке књиге или кључну реч у примеру текста са веба, она има своје лимите. У следећој радној свесци потражићемо мало више информација о тексту узимајући у обзир позицију речи у тексту."
   ]
  },
  {
   "cell_type": "markdown",
   "metadata": {
    "scrolled": true
   },
   "source": [
    "## Задаци"
   ]
  },
  {
   "cell_type": "markdown",
   "metadata": {},
   "source": [
    "1. На првом графику у овој радној свесци смо упоредили број речи различите дужине текстова на српском и енглеском. Касније смо показали да та листа речи (па и њихових дужина) садржи вишеструка понављања речи. Ваш задатак је да поновите исту анализу и нацртате график, овај пут користећи само листу јединствених речи и њихових дужина за оба текста."
   ]
  },
  {
   "cell_type": "code",
   "execution_count": null,
   "metadata": {},
   "outputs": [],
   "source": []
  },
  {
   "cell_type": "markdown",
   "metadata": {},
   "source": [
    "2. Нацртајте график log(фреквенција речи) од log(ранг речи) за текстове са портала Петља на српском и енглеском и користећи функцију за фитовање, проверити у којој мери Зипфов закон важи за ове текстове, као и да ли су степени за различите језике слични."
   ]
  },
  {
   "cell_type": "code",
   "execution_count": null,
   "metadata": {
    "scrolled": false
   },
   "outputs": [],
   "source": []
  }
 ],
 "metadata": {
  "kernelspec": {
   "display_name": "Python 3",
   "language": "python",
   "name": "python3"
  },
  "language_info": {
   "codemirror_mode": {
    "name": "ipython",
    "version": 3
   },
   "file_extension": ".py",
   "mimetype": "text/x-python",
   "name": "python",
   "nbconvert_exporter": "python",
   "pygments_lexer": "ipython3",
   "version": "3.9.1"
  }
 },
 "nbformat": 4,
 "nbformat_minor": 2
}
